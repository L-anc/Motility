{
 "cells": [
  {
   "cell_type": "code",
   "execution_count": 108,
   "metadata": {
    "tags": []
   },
   "outputs": [],
   "source": [
    "import os\n",
    "import os.path as op\n",
    "from pathlib   import Path\n",
    "from glob      import glob\n",
    "from datetime  import datetime\n",
    "\n",
    "import csv\n",
    "import json\n",
    "import numpy as np\n",
    "import pandas as pd\n",
    "import matplotlib.pyplot as plt"
   ]
  },
  {
   "cell_type": "code",
   "execution_count": 109,
   "metadata": {
    "tags": []
   },
   "outputs": [],
   "source": [
    "basic_features = pd.read_csv('data/test_basic_features.csv')\n",
    "json_file = json.load(open('data/test.json', 'r'))\n",
    "uids = basic_features['uid']\n",
    "for uid in uids:\n",
    "    csv = pd.read_csv('data/test_csvs/'+str(uid)+'.csv')\n",
    "    dtypes = [np.int64, np.float64, np.float64]\n",
    "    with open('data/test_npys/'+str(uid)+'.npy', 'wb+') as f:\n",
    "        a = csv.to_numpy()\n",
    "        np.save(f, a)"
   ]
  },
  {
   "cell_type": "code",
   "execution_count": null,
   "metadata": {},
   "outputs": [],
   "source": [
    "basic_features = pd.read_csv('data/test_basic_features.csv')\n",
    "json_file = json.load(open('data/test.json', 'r'))\n",
    "uids = basic_features['uid']\n",
    "for uid in uids:\n",
    "    csv = pd.read_csv('data/test_csvs/'+str(uid)+'.csv')\n",
    "    dtypes = [np.int64, np.float64, np.float64]\n",
    "    with open('data/test_npys/'+str(uid)+'.npy', 'wb+') as f:\n",
    "        a = csv.to_numpy()\n",
    "        np.save(f, a)"
   ]
  }
 ],
 "metadata": {
  "kernelspec": {
   "display_name": "Python 3 (ipykernel)",
   "language": "python",
   "name": "python3"
  },
  "language_info": {
   "codemirror_mode": {
    "name": "ipython",
    "version": 3
   },
   "file_extension": ".py",
   "mimetype": "text/x-python",
   "name": "python",
   "nbconvert_exporter": "python",
   "pygments_lexer": "ipython3",
   "version": "3.11.0"
  },
  "vscode": {
   "interpreter": {
    "hash": "aee8b7b246df8f9039afb4144a1f6fd8d2ca17a180786b69acc140d282b71a49"
   }
  }
 },
 "nbformat": 4,
 "nbformat_minor": 4
}
