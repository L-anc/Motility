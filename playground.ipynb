{
 "cells": [
  {
   "cell_type": "code",
   "execution_count": 1,
   "metadata": {
    "tags": []
   },
   "outputs": [],
   "source": [
    "import os\n",
    "import os.path as op\n",
    "from pathlib   import Path\n",
    "from glob      import glob\n",
    "from datetime  import datetime\n",
    "\n",
    "import csv\n",
    "import json\n",
    "import numpy as np\n",
    "import pandas as pd\n",
    "import matplotlib.pyplot as plt\n"
   ]
  },
  {
   "cell_type": "code",
   "execution_count": 2,
   "metadata": {
    "tags": []
   },
   "outputs": [],
   "source": [
    "basic_features = pd.read_csv('data/test_basic_features.csv')\n",
    "json_file = json.load(open('data/test.json', 'r'))\n",
    "uids = basic_features['uid']\n",
    "for uid in uids:\n",
    "    csv = pd.read_csv('data/test_csvs/'+str(uid)+'.csv')\n",
    "    dtypes = [np.int64, np.float64, np.float64]\n",
    "    with open('data/test_npys/'+str(uid)+'.npy', 'wb+') as f:\n",
    "        a = csv.to_numpy()\n",
    "        np.save(f, a)"
   ]
  },
  {
   "cell_type": "code",
   "execution_count": 3,
   "metadata": {},
   "outputs": [],
   "source": [
    "basic_features = pd.read_csv('data/test_basic_features.csv')\n",
    "json_file = json.load(open('data/test.json', 'r'))\n",
    "uids = basic_features['uid']\n",
    "for uid in uids:\n",
    "    csv = pd.read_csv('data/test_csvs/'+str(uid)+'.csv')\n",
    "    dtypes = [np.int64, np.float64, np.float64]\n",
    "    with open('data/test_npys/'+str(uid)+'.npy', 'wb+') as f:\n",
    "        a = csv.to_numpy()\n",
    "        np.save(f, a)"
   ]
  },
  {
   "cell_type": "code",
   "execution_count": 4,
   "metadata": {},
   "outputs": [],
   "source": [
    "basic_features = pd.read_csv('data/train_basic_features.csv')\n",
    "json_file = json.load(open('data/train.json', 'r'))\n",
    "uids = basic_features['uid']\n",
    "for uid in uids:\n",
    "    csv = pd.read_csv('data/train_csvs/'+str(uid)+'.csv')\n",
    "    dtypes = [np.int64, np.float64, np.float64]\n",
    "    with open('data/train_npys/'+str(uid)+'.npy', 'wb+') as f:\n",
    "        a = csv.to_numpy()\n",
    "        np.save(f, a)"
   ]
  },
  {
   "cell_type": "code",
   "execution_count": 5,
   "metadata": {},
   "outputs": [],
   "source": [
    "basic_features = pd.read_csv('data/train_basic_features.csv')\n",
    "json_file = json.load(open('data/train.json', 'r'))\n",
    "uids = basic_features['uid']\n",
    "for uid in uids:\n",
    "    csv = pd.read_csv('data/train_csvs/'+str(uid)+'.csv')\n",
    "    dtypes = [np.int64, np.float64, np.float64]\n",
    "    with open('data/train_npys/'+str(uid)+'.npy', 'wb+') as f:\n",
    "        a = csv.to_numpy()\n",
    "        np.save(f, a)"
   ]
  },
  {
   "cell_type": "code",
   "execution_count": 6,
   "metadata": {},
   "outputs": [],
   "source": [
    "def get_uid_to_data(file_path):\n",
    "    uids = [g.removeprefix(file_path + \"/\").removesuffix(\".npy\") for g in glob(f'{file_path}/*.npy')]\n",
    "    return { u:np.load(file_path + \"/\" + u + \".npy\") for u in uids}"
   ]
  }
 ],
 "metadata": {
  "kernelspec": {
   "display_name": "Python 3",
   "language": "python",
   "name": "python3"
  },
  "language_info": {
   "codemirror_mode": {
    "name": "ipython",
    "version": 3
   },
   "file_extension": ".py",
   "mimetype": "text/x-python",
   "name": "python",
   "nbconvert_exporter": "python",
   "pygments_lexer": "ipython3",
   "version": "3.11.1"
  },
  "vscode": {
   "interpreter": {
    "hash": "5c7b89af1651d0b8571dde13640ecdccf7d5a6204171d6ab33e7c296e100e08a"
   }
  }
 },
 "nbformat": 4,
 "nbformat_minor": 4
}
