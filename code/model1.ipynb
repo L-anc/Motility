{
  "cells": [
    {
      "cell_type": "markdown",
      "metadata": {
        "id": "6WZsJE6InQvH"
      },
      "source": [
        "# Problem 3 Sample Code\n",
        "\n",
        "This sample code is meant as a guide on how to use PyTorch and how to use the relevant model layers. This not a guide on how to design a network and the network in this example is intentionally designed to have poor performace."
      ]
    },
    {
      "cell_type": "code",
      "execution_count": 2,
      "metadata": {
        "id": "pRd994oKnQvI"
      },
      "outputs": [],
      "source": [
        "import numpy as np\n",
        "import matplotlib.pyplot as plt\n",
        "%matplotlib inline\n",
        "\n",
        "import torch\n",
        "import torch.nn as nn\n",
        "import torch.nn.functional as F\n",
        "import pandas as pd\n",
        "from torch.utils.data import TensorDataset, Dataset, DataLoader\n",
        "import seaborn as sns\n",
        "from sklearn.model_selection import train_test_split\n",
        "from scipy import stats"
      ]
    },
    {
      "cell_type": "code",
      "execution_count": 6,
      "metadata": {
        "id": "T8ui5hmKnQvJ"
      },
      "outputs": [],
      "source": [
        "df = pd.read_csv('out.csv')\n",
        "df = df.drop(columns= \"uid\")\n",
        "df = df.replace('',np.nan)\n",
        "df = df.dropna(axis=\"rows\", how=\"any\")\n",
        "\n",
        "df[(np.abs(stats.zscore(df)) < 3).any(axis=1)]\n",
        "# print(\"===dataframe=== \\n {}\".format(df))\n",
        "# print (\"df after drop \\n{}\".format(df))\n",
        "# df['split'] = np.random.randn(df.shape[0], 1)\n",
        "# msk = np.random.rand(len(df)) <= 0.7\n",
        "\n",
        "# train = df[msk]\n",
        "# train.drop(['split'], axis=1, inplace=True)\n",
        "# test = df[~msk]\n",
        "# test.drop(['split'], axis=1, inplace=True)\n",
        "X = df.copy()\n",
        "X = X.drop(columns=[\"label\"])\n",
        "\n",
        "\n",
        "# print(\" - pre X \\n {} - \".format(X))\n",
        "\n",
        "for col in X:\n",
        "    X[col] = [(element - np.mean(X[col])) / np.std(X[col]) for element in X[col]]\n",
        "\n",
        "X = np.array(X)\n",
        "\n",
        "# def normalize(x):\n",
        "#     x = np.asarray(x)\n",
        "#     return (x - x.min()) / (np.ptp(x))\n",
        "# X_normed = []\n",
        "# for i in range(0, len(X)):\n",
        "#     X_normed.append(X[i])\n",
        "# # X = (X - X.mean())/(X.std())\n",
        "# print(\" - NORMALIZED  X \\n {} - \".format(X_normed))\n",
        "\n",
        "y = np.array(df[\"label\"])\n",
        "\n",
        "train_X, test_X, train_y, test_y = train_test_split(X, y, test_size=0.2)\n",
        "# print(\" pre TRAIN X \\n {}\".format(train_X))\n",
        "\n",
        "train_X = torch.tensor(train_X, dtype=torch.float32)\n",
        "# print(\"TENSOR  X \\n {}\".format(train_X))\n",
        "train_y = torch.tensor(train_y, dtype=torch.float32)\n",
        "# 80/20 x values as floats\n",
        "test_X = torch.tensor(test_X, dtype=torch.float32)\n",
        "test_y = torch.tensor(test_y, dtype=torch.float32)\n",
        "\n",
        "train_dataset = TensorDataset(train_X, train_y)\n",
        "test_dataset = TensorDataset(test_X, test_y)\n",
        "\n",
        "train_loader = torch.utils.data.DataLoader(train_dataset, batch_size=10, shuffle=True)\n",
        "test_loader = torch.utils.data.DataLoader(test_dataset, batch_size=10, shuffle=True) \n",
        "\n",
        "# print (\"x \\n{}\".format(df))\n",
        "# print (\"y \\n{}\".format(df))\n",
        "\n",
        "\n",
        "# x_train = torch.tensor(train[['chi','lin_reg','lin_reg_chi','stddev_step_speed']].copy().to_numpy(), dtype=torch.float32)\n",
        "# y_train = torch.tensor(train['label'].copy().to_numpy(), dtype=torch.long)\n",
        "# x_test = torch.tensor(train[['chi','lin_reg','lin_reg_chi','stddev_step_speed']].copy().to_numpy(), dtype=torch.float32)\n",
        "# y_test = torch.tensor(train['label'].copy().to_numpy(), dtype=torch.long)\n",
        "# train_dataset = TensorDataset(x_train, y_train)\n",
        "# test_dataset = TensorDataset(x_test, y_test)"
      ]
    },
    {
      "cell_type": "markdown",
      "metadata": {
        "id": "_kAG49-4nQvK"
      },
      "source": [
        "We can convert images to numpy arrays and plot them with matplotlib:"
      ]
    },
    {
      "cell_type": "markdown",
      "metadata": {
        "id": "x0VSOS2TnQvL"
      },
      "source": [
        "## Network Definition\n",
        "Let's instantiate a model and take a look at the layers."
      ]
    },
    {
      "cell_type": "code",
      "execution_count": 7,
      "metadata": {
        "colab": {
          "base_uri": "https://localhost:8080/"
        },
        "id": "NT73uPcbnQvL",
        "outputId": "9af8e298-58c2-4110-c1c4-f7abd30472c9",
        "scrolled": false
      },
      "outputs": [
        {
          "data": {
            "text/plain": [
              "<torch._C.Generator at 0x15fd74766b0>"
            ]
          },
          "execution_count": 7,
          "metadata": {},
          "output_type": "execute_result"
        }
      ],
      "source": [
        "model = nn.Sequential(\n",
        "    nn.Linear(4, 2),\n",
        "    nn.ReLU(),\n",
        "    nn.Linear(2, 1),\n",
        "    nn.Sigmoid()\n",
        ")\n",
        "\n",
        "# def init_weights(m):\n",
        "#     if isinstance(m, nn.Linear):\n",
        "#         torch.nn.init.xavier_uniform(m.weight)\n",
        "#         m.bias.data.fill_(0.01)\n",
        "\n",
        "# model.apply(init_weights)\n",
        "\n",
        "optimizer = torch.optim.Adam(model.parameters(), lr=1e-5)\n",
        "loss_fn = nn.BCELoss()\n",
        "# loss_fn = nn.CrossEntropyLoss()\n",
        "torch.manual_seed(15552494823729223621)"
      ]
    },
    {
      "cell_type": "markdown",
      "metadata": {
        "id": "vkzr6hvjnQvM"
      },
      "source": [
        "## Training\n",
        "We also choose an optimizer and a loss function."
      ]
    },
    {
      "cell_type": "markdown",
      "metadata": {
        "id": "YLaXzBQjnQvM"
      },
      "source": [
        "We could write our training procedure manually and directly index the `Dataset` objects, but the `DataLoader` object conveniently creates an iterable for automatically creating random minibatches:"
      ]
    },
    {
      "cell_type": "markdown",
      "metadata": {
        "id": "6EJRa6ndnQvM"
      },
      "source": [
        "We now write our backpropagation loop, training for 10 epochs."
      ]
    },
    {
      "cell_type": "code",
      "execution_count": 8,
      "metadata": {
        "colab": {
          "base_uri": "https://localhost:8080/"
        },
        "id": "8O3-pMlInQvM",
        "outputId": "26e030ff-ea74-4177-e94e-7437abee7432"
      },
      "outputs": [
        {
          "name": "stdout",
          "output_type": "stream",
          "text": [
            "Train Epoch: 1  Loss: 0.7158\n",
            "Train Epoch: 2  Loss: 0.7180\n",
            "Train Epoch: 3  Loss: 0.7653\n",
            "Train Epoch: 4  Loss: 0.8494\n",
            "Train Epoch: 5  Loss: 0.6746\n",
            "Train Epoch: 6  Loss: 0.8875\n",
            "Train Epoch: 7  Loss: 0.5773\n",
            "Train Epoch: 8  Loss: 0.8226\n",
            "Train Epoch: 9  Loss: 0.6216\n",
            "Train Epoch: 10  Loss: 0.6863\n",
            "Train Epoch: 11  Loss: 0.6617\n",
            "Train Epoch: 12  Loss: 0.7768\n",
            "Train Epoch: 13  Loss: 0.7753\n",
            "Train Epoch: 14  Loss: 0.7247\n",
            "Train Epoch: 15  Loss: 0.6396\n",
            "Train Epoch: 16  Loss: 0.6847\n",
            "Train Epoch: 17  Loss: 0.6783\n",
            "Train Epoch: 18  Loss: 0.6161\n",
            "Train Epoch: 19  Loss: 0.6986\n",
            "Train Epoch: 20  Loss: 0.6812\n"
          ]
        }
      ],
      "source": [
        "model.train()\n",
        "\n",
        "for epoch in range(20):\n",
        "    for batch_idx, (data, target) in enumerate(train_loader):\n",
        "        # print(\"data \\n{}\".format(data))\n",
        "        # Erase accumulated gradients\n",
        "\n",
        "        optimizer.zero_grad()\n",
        "\n",
        "        # Forward pass\n",
        "        output = model(data)\n",
        "        #print(\" -- OPUTPUT -- \\n{}\".format(output))\n",
        "        output = output.flatten()\n",
        "        #print(\" -- OUTPUT -- \\n{}\".format(output))\n",
        "        # print(\" -- TARGET -- \\n{}\".format(target))\n",
        "\n",
        "        # Calculate loss\n",
        "        loss = loss_fn(output, target)\n",
        "\n",
        "        # Backward pass\n",
        "        loss.backward()\n",
        "        \n",
        "        # torch.nn.utils.clip_grad_norm_(model.parameters(), 0.01)\n",
        "        torch.nn.utils.clip_grad_value_(model.parameters(), 10000)\n",
        "\n",
        "        # Weight update\n",
        "        optimizer.step()\n",
        "\n",
        "    # Track loss each epoch\n",
        "    print('Train Epoch: %d  Loss: %.4f' % (epoch + 1,  loss.item()))"
      ]
    },
    {
      "cell_type": "markdown",
      "metadata": {
        "id": "G4p-4iZDnQvN"
      },
      "source": [
        "## Testing\n",
        "We can perform forward passes through the network without saving gradients."
      ]
    },
    {
      "cell_type": "code",
      "execution_count": 9,
      "metadata": {
        "colab": {
          "base_uri": "https://localhost:8080/"
        },
        "id": "jGzLHGFfnQvN",
        "outputId": "70c957a0-e909-4b4b-c0e0-02d70f65b51b"
      },
      "outputs": [
        {
          "ename": "ValueError",
          "evalue": "Using a target size (torch.Size([10])) that is different to the input size (torch.Size([10, 1])) is deprecated. Please ensure they have the same size.",
          "output_type": "error",
          "traceback": [
            "\u001b[1;31m---------------------------------------------------------------------------\u001b[0m",
            "\u001b[1;31mValueError\u001b[0m                                Traceback (most recent call last)",
            "Cell \u001b[1;32mIn[9], line 11\u001b[0m\n\u001b[0;32m      9\u001b[0m \u001b[39mfor\u001b[39;00m data, target \u001b[39min\u001b[39;00m test_loader:\n\u001b[0;32m     10\u001b[0m     output \u001b[39m=\u001b[39m model(data)\n\u001b[1;32m---> 11\u001b[0m     test_loss \u001b[39m+\u001b[39m\u001b[39m=\u001b[39m loss_fn(output, target)\u001b[39m.\u001b[39mitem()  \u001b[39m# Sum up batch loss\u001b[39;00m\n\u001b[0;32m     12\u001b[0m     pred \u001b[39m=\u001b[39m output\u001b[39m.\u001b[39margmax(dim\u001b[39m=\u001b[39m\u001b[39m1\u001b[39m, keepdim\u001b[39m=\u001b[39m\u001b[39mTrue\u001b[39;00m)  \u001b[39m# Get the index of the max class score\u001b[39;00m\n\u001b[0;32m     13\u001b[0m     correct \u001b[39m+\u001b[39m\u001b[39m=\u001b[39m pred\u001b[39m.\u001b[39meq(target\u001b[39m.\u001b[39mview_as(pred))\u001b[39m.\u001b[39msum()\u001b[39m.\u001b[39mitem()\n",
            "File \u001b[1;32m~\\AppData\\Local\\Packages\\PythonSoftwareFoundation.Python.3.9_qbz5n2kfra8p0\\LocalCache\\local-packages\\Python39\\site-packages\\torch\\nn\\modules\\module.py:1194\u001b[0m, in \u001b[0;36mModule._call_impl\u001b[1;34m(self, *input, **kwargs)\u001b[0m\n\u001b[0;32m   1190\u001b[0m \u001b[39m# If we don't have any hooks, we want to skip the rest of the logic in\u001b[39;00m\n\u001b[0;32m   1191\u001b[0m \u001b[39m# this function, and just call forward.\u001b[39;00m\n\u001b[0;32m   1192\u001b[0m \u001b[39mif\u001b[39;00m \u001b[39mnot\u001b[39;00m (\u001b[39mself\u001b[39m\u001b[39m.\u001b[39m_backward_hooks \u001b[39mor\u001b[39;00m \u001b[39mself\u001b[39m\u001b[39m.\u001b[39m_forward_hooks \u001b[39mor\u001b[39;00m \u001b[39mself\u001b[39m\u001b[39m.\u001b[39m_forward_pre_hooks \u001b[39mor\u001b[39;00m _global_backward_hooks\n\u001b[0;32m   1193\u001b[0m         \u001b[39mor\u001b[39;00m _global_forward_hooks \u001b[39mor\u001b[39;00m _global_forward_pre_hooks):\n\u001b[1;32m-> 1194\u001b[0m     \u001b[39mreturn\u001b[39;00m forward_call(\u001b[39m*\u001b[39m\u001b[39minput\u001b[39m, \u001b[39m*\u001b[39m\u001b[39m*\u001b[39mkwargs)\n\u001b[0;32m   1195\u001b[0m \u001b[39m# Do not call functions when jit is used\u001b[39;00m\n\u001b[0;32m   1196\u001b[0m full_backward_hooks, non_full_backward_hooks \u001b[39m=\u001b[39m [], []\n",
            "File \u001b[1;32m~\\AppData\\Local\\Packages\\PythonSoftwareFoundation.Python.3.9_qbz5n2kfra8p0\\LocalCache\\local-packages\\Python39\\site-packages\\torch\\nn\\modules\\loss.py:619\u001b[0m, in \u001b[0;36mBCELoss.forward\u001b[1;34m(self, input, target)\u001b[0m\n\u001b[0;32m    618\u001b[0m \u001b[39mdef\u001b[39;00m \u001b[39mforward\u001b[39m(\u001b[39mself\u001b[39m, \u001b[39minput\u001b[39m: Tensor, target: Tensor) \u001b[39m-\u001b[39m\u001b[39m>\u001b[39m Tensor:\n\u001b[1;32m--> 619\u001b[0m     \u001b[39mreturn\u001b[39;00m F\u001b[39m.\u001b[39;49mbinary_cross_entropy(\u001b[39minput\u001b[39;49m, target, weight\u001b[39m=\u001b[39;49m\u001b[39mself\u001b[39;49m\u001b[39m.\u001b[39;49mweight, reduction\u001b[39m=\u001b[39;49m\u001b[39mself\u001b[39;49m\u001b[39m.\u001b[39;49mreduction)\n",
            "File \u001b[1;32m~\\AppData\\Local\\Packages\\PythonSoftwareFoundation.Python.3.9_qbz5n2kfra8p0\\LocalCache\\local-packages\\Python39\\site-packages\\torch\\nn\\functional.py:3086\u001b[0m, in \u001b[0;36mbinary_cross_entropy\u001b[1;34m(input, target, weight, size_average, reduce, reduction)\u001b[0m\n\u001b[0;32m   3084\u001b[0m     reduction_enum \u001b[39m=\u001b[39m _Reduction\u001b[39m.\u001b[39mget_enum(reduction)\n\u001b[0;32m   3085\u001b[0m \u001b[39mif\u001b[39;00m target\u001b[39m.\u001b[39msize() \u001b[39m!=\u001b[39m \u001b[39minput\u001b[39m\u001b[39m.\u001b[39msize():\n\u001b[1;32m-> 3086\u001b[0m     \u001b[39mraise\u001b[39;00m \u001b[39mValueError\u001b[39;00m(\n\u001b[0;32m   3087\u001b[0m         \u001b[39m\"\u001b[39m\u001b[39mUsing a target size (\u001b[39m\u001b[39m{}\u001b[39;00m\u001b[39m) that is different to the input size (\u001b[39m\u001b[39m{}\u001b[39;00m\u001b[39m) is deprecated. \u001b[39m\u001b[39m\"\u001b[39m\n\u001b[0;32m   3088\u001b[0m         \u001b[39m\"\u001b[39m\u001b[39mPlease ensure they have the same size.\u001b[39m\u001b[39m\"\u001b[39m\u001b[39m.\u001b[39mformat(target\u001b[39m.\u001b[39msize(), \u001b[39minput\u001b[39m\u001b[39m.\u001b[39msize())\n\u001b[0;32m   3089\u001b[0m     )\n\u001b[0;32m   3091\u001b[0m \u001b[39mif\u001b[39;00m weight \u001b[39mis\u001b[39;00m \u001b[39mnot\u001b[39;00m \u001b[39mNone\u001b[39;00m:\n\u001b[0;32m   3092\u001b[0m     new_size \u001b[39m=\u001b[39m _infer_size(target\u001b[39m.\u001b[39msize(), weight\u001b[39m.\u001b[39msize())\n",
            "\u001b[1;31mValueError\u001b[0m: Using a target size (torch.Size([10])) that is different to the input size (torch.Size([10, 1])) is deprecated. Please ensure they have the same size."
          ]
        }
      ],
      "source": [
        "# Putting layers like Dropout into evaluation mode\n",
        "model.eval()\n",
        "\n",
        "test_loss = 0\n",
        "correct = 0\n",
        "\n",
        "# Turning off automatic differentiation\n",
        "with torch.no_grad():\n",
        "    for data, target in test_loader:\n",
        "        output = model(data)\n",
        "        test_loss += loss_fn(output, target).item()  # Sum up batch loss\n",
        "        pred = output.argmax(dim=1, keepdim=True)  # Get the index of the max class score\n",
        "        correct += pred.eq(target.view_as(pred)).sum().item()\n",
        "\n",
        "test_loss /= len(test_loader.dataset)\n",
        "\n",
        "print('Test set: Average loss: %.4f, Accuracy: %d/%d (%.4f)' %\n",
        "      (test_loss, correct, len(test_loader.dataset),\n",
        "       100. * correct / len(test_loader.dataset)))"
      ]
    }
  ],
  "metadata": {
    "accelerator": "GPU",
    "colab": {
      "provenance": []
    },
    "gpuClass": "standard",
    "kernelspec": {
      "display_name": "Python 3",
      "language": "python",
      "name": "python3"
    },
    "language_info": {
      "codemirror_mode": {
        "name": "ipython",
        "version": 3
      },
      "file_extension": ".py",
      "mimetype": "text/x-python",
      "name": "python",
      "nbconvert_exporter": "python",
      "pygments_lexer": "ipython3",
      "version": "3.9.13"
    },
    "vscode": {
      "interpreter": {
        "hash": "e899050e220c69a167a6653511abed74117c9f8925d4248e4a9bfeb9609dec5b"
      }
    }
  },
  "nbformat": 4,
  "nbformat_minor": 0
}
