{
  "cells": [
    {
      "cell_type": "code",
      "execution_count": 1,
      "metadata": {
        "id": "0fzZb8grE78U"
      },
      "outputs": [
        {
          "name": "stderr",
          "output_type": "stream",
          "text": [
            "c:\\Python39\\lib\\site-packages\\tqdm\\auto.py:22: TqdmWarning: IProgress not found. Please update jupyter and ipywidgets. See https://ipywidgets.readthedocs.io/en/stable/user_install.html\n",
            "  from .autonotebook import tqdm as notebook_tqdm\n"
          ]
        }
      ],
      "source": [
        "import torch\n",
        "import torch.nn as nn\n",
        "import torch.nn.functional as F\n",
        "from torch.utils.data import TensorDataset, DataLoader\n",
        "import numpy as np\n",
        "import pandas as pd\n",
        "import seaborn as sns"
      ]
    },
    {
      "cell_type": "markdown",
      "metadata": {
        "id": "VvPFMow_NNry"
      },
      "source": [
        "# Part A: Data Setup"
      ]
    },
    {
      "cell_type": "code",
      "execution_count": 8,
      "metadata": {
        "colab": {
          "base_uri": "https://localhost:8080/"
        },
        "id": "7m_kQfspQJNf",
        "outputId": "cc8f1ce3-feaa-44d7-db8f-0466a9ca8b58"
      },
      "outputs": [
        {
          "name": "stdout",
          "output_type": "stream",
          "text": [
            "                chi   lin_reg  lin_reg_chi  stddev_step_speed  label\n",
            "0      8.474767e+04  0.992533     0.988869          17.360221      0\n",
            "1      2.097220e+04  0.973844     1.938908          17.308306      0\n",
            "2      2.356781e+04  0.894242     6.604954          17.300169      0\n",
            "3      8.100880e+03  0.967026     5.758685          17.376369      0\n",
            "4      5.593839e+05  0.000296     1.512429          17.205146      0\n",
            "...             ...       ...          ...                ...    ...\n",
            "16075  4.669320e+05  0.999245     0.867075          18.036484      0\n",
            "16076  1.375967e+06  0.999707     1.345129          26.151765      0\n",
            "16077  2.235552e+06  0.998892     3.587700          23.801682      0\n",
            "16078  6.701228e+05  0.998953     0.680709          16.319528      0\n",
            "16079  6.096492e+05  0.999056     7.286809          30.031311      0\n",
            "\n",
            "[16080 rows x 5 columns]\n"
          ]
        }
      ],
      "source": [
        "# data preprocessing\n",
        "\n",
        "# df = pd.read_csv(\"data/COVID-19_Case_Surveillance_Public_Use_Data_Subset.csv\")\n",
        "df = pd.read_csv(\"out.csv\")\n",
        "\n",
        "# designate which columns I want to use\n",
        "cols = ['chi', 'lin_reg', 'lin_reg_chi', 'stddev_step_speed', 'label']\n",
        "\n",
        "df = df[cols]\n",
        "\n",
        "# remove all entries with Missing or NaN\n",
        "for i in cols:\n",
        "   df = df[df[i] != 'Missing']\n",
        "   df = df[df[i] != 'NaN']\n",
        "   df = df[df[i] != 'Unknown']\n",
        "\n",
        "print(df)\n"
      ]
    },
    {
      "cell_type": "code",
      "execution_count": 13,
      "metadata": {
        "colab": {
          "base_uri": "https://localhost:8080/"
        },
        "id": "3Wn-AQp6FDpM",
        "outputId": "0b0e053e-b30e-4222-f191-12a326ede8ef"
      },
      "outputs": [
        {
          "name": "stdout",
          "output_type": "stream",
          "text": [
            "                chi   lin_reg  lin_reg_chi  stddev_step_speed\n",
            "0      8.474767e+04  0.992533     0.988869          17.360221\n",
            "1      2.097220e+04  0.973844     1.938908          17.308306\n",
            "2      2.356781e+04  0.894242     6.604954          17.300169\n",
            "3      8.100880e+03  0.967026     5.758685          17.376369\n",
            "4      5.593839e+05  0.000296     1.512429          17.205146\n",
            "...             ...       ...          ...                ...\n",
            "16075  4.669320e+05  0.999245     0.867075          18.036484\n",
            "16076  1.375967e+06  0.999707     1.345129          26.151765\n",
            "16077  2.235552e+06  0.998892     3.587700          23.801682\n",
            "16078  6.701228e+05  0.998953     0.680709          16.319528\n",
            "16079  6.096492e+05  0.999056     7.286809          30.031311\n",
            "\n",
            "[16080 rows x 4 columns]\n"
          ]
        }
      ],
      "source": [
        "# TODO: make sure your data can be converted to torch tensors\n",
        "\n",
        "df_train = df[['chi', 'lin_reg', 'lin_reg_chi', 'stddev_step_speed']].copy()\n",
        "df_test = df['label'].copy()\n",
        "\n",
        "print(df_train)\n",
        "\n",
        "train_X = torch.tensor((df_train.iloc[0:14000]).to_numpy(), dtype = torch.float32)\n",
        "train_y = torch.tensor((df_test.iloc[0:14000]).to_numpy(), dtype = torch.float32)\n",
        "\n",
        "test_X = torch.tensor((df_train.iloc[14000:16079]).to_numpy(), dtype = torch.float32)\n",
        "test_y = torch.tensor((df_test.iloc[14000:16079]).to_numpy(), dtype = torch.float32)\n",
        "\n",
        "\n",
        "# make datasets and dataloaders\n",
        "\n",
        "train_dataset = TensorDataset(train_X, train_y)\n",
        "test_dataset = TensorDataset(test_X, test_y)\n",
        "\n",
        "train_loader = torch.utils.data.DataLoader(train_dataset, batch_size=40, shuffle=True)\n",
        "test_loader = torch.utils.data.DataLoader(test_dataset, batch_size=40, shuffle=True) \n"
      ]
    },
    {
      "cell_type": "markdown",
      "metadata": {
        "id": "Ccx89l3btfq4"
      },
      "source": [
        "# Part B: Linear Neural Network"
      ]
    },
    {
      "cell_type": "markdown",
      "metadata": {
        "id": "aICcIvNtNGk2"
      },
      "source": [
        "## Model Setup"
      ]
    },
    {
      "cell_type": "code",
      "execution_count": 27,
      "metadata": {
        "colab": {
          "base_uri": "https://localhost:8080/"
        },
        "id": "qtMSBKxdFfjq",
        "outputId": "75ea32c7-ca35-423b-a525-510f489d37b0"
      },
      "outputs": [
        {
          "name": "stdout",
          "output_type": "stream",
          "text": [
            "Sequential(\n",
            "  (0): BatchNorm1d(4, eps=1e-05, momentum=0.1, affine=True, track_running_stats=True)\n",
            "  (1): Flatten(start_dim=1, end_dim=-1)\n",
            "  (2): Linear(in_features=4, out_features=1, bias=True)\n",
            "  (3): Sigmoid()\n",
            ")\n"
          ]
        }
      ],
      "source": [
        "model = nn.Sequential(\n",
        "    nn.BatchNorm1d(4),\n",
        "    nn.Flatten(),\n",
        "    nn.Linear(4, 1),\n",
        "    #nn.Dropout(0.07),\n",
        "    nn.Sigmoid()\n",
        ")\n",
        "print(model)\n",
        "\n",
        "optimizer = torch.optim.Adam(model.parameters(), lr=5e-5)\n",
        "loss_fn = nn.BCELoss()\n",
        "\n",
        "#torch.manual_seed(15552494823729223621)\n",
        "#15552494823729223621 97.9\n",
        "#6202543811676496745 98.01\n",
        "\n",
        "#4012035888747445639 98.17"
      ]
    },
    {
      "cell_type": "markdown",
      "metadata": {
        "id": "uKl5Tm2TNXxc"
      },
      "source": [
        "## Training Loop"
      ]
    },
    {
      "cell_type": "code",
      "execution_count": 28,
      "metadata": {
        "colab": {
          "base_uri": "https://localhost:8080/"
        },
        "id": "z-RVMsj0NaN7",
        "outputId": "cb860332-00c2-4706-c81f-13647e9b4ae2"
      },
      "outputs": [
        {
          "ename": "RuntimeError",
          "evalue": "all elements of input should be between 0 and 1",
          "output_type": "error",
          "traceback": [
            "\u001b[1;31m---------------------------------------------------------------------------\u001b[0m",
            "\u001b[1;31mRuntimeError\u001b[0m                              Traceback (most recent call last)",
            "Cell \u001b[1;32mIn[28], line 14\u001b[0m\n\u001b[0;32m     12\u001b[0m target \u001b[39m=\u001b[39m target\u001b[39m.\u001b[39munsqueeze(\u001b[39m1\u001b[39m)\n\u001b[0;32m     13\u001b[0m \u001b[39m# Calculate loss\u001b[39;00m\n\u001b[1;32m---> 14\u001b[0m loss \u001b[39m=\u001b[39m loss_fn(output, target)\n\u001b[0;32m     16\u001b[0m \u001b[39m# Backward pass\u001b[39;00m\n\u001b[0;32m     17\u001b[0m loss\u001b[39m.\u001b[39mbackward()\n",
            "File \u001b[1;32mc:\\Python39\\lib\\site-packages\\torch\\nn\\modules\\module.py:1194\u001b[0m, in \u001b[0;36mModule._call_impl\u001b[1;34m(self, *input, **kwargs)\u001b[0m\n\u001b[0;32m   1190\u001b[0m \u001b[39m# If we don't have any hooks, we want to skip the rest of the logic in\u001b[39;00m\n\u001b[0;32m   1191\u001b[0m \u001b[39m# this function, and just call forward.\u001b[39;00m\n\u001b[0;32m   1192\u001b[0m \u001b[39mif\u001b[39;00m \u001b[39mnot\u001b[39;00m (\u001b[39mself\u001b[39m\u001b[39m.\u001b[39m_backward_hooks \u001b[39mor\u001b[39;00m \u001b[39mself\u001b[39m\u001b[39m.\u001b[39m_forward_hooks \u001b[39mor\u001b[39;00m \u001b[39mself\u001b[39m\u001b[39m.\u001b[39m_forward_pre_hooks \u001b[39mor\u001b[39;00m _global_backward_hooks\n\u001b[0;32m   1193\u001b[0m         \u001b[39mor\u001b[39;00m _global_forward_hooks \u001b[39mor\u001b[39;00m _global_forward_pre_hooks):\n\u001b[1;32m-> 1194\u001b[0m     \u001b[39mreturn\u001b[39;00m forward_call(\u001b[39m*\u001b[39m\u001b[39minput\u001b[39m, \u001b[39m*\u001b[39m\u001b[39m*\u001b[39mkwargs)\n\u001b[0;32m   1195\u001b[0m \u001b[39m# Do not call functions when jit is used\u001b[39;00m\n\u001b[0;32m   1196\u001b[0m full_backward_hooks, non_full_backward_hooks \u001b[39m=\u001b[39m [], []\n",
            "File \u001b[1;32mc:\\Python39\\lib\\site-packages\\torch\\nn\\modules\\loss.py:619\u001b[0m, in \u001b[0;36mBCELoss.forward\u001b[1;34m(self, input, target)\u001b[0m\n\u001b[0;32m    618\u001b[0m \u001b[39mdef\u001b[39;00m \u001b[39mforward\u001b[39m(\u001b[39mself\u001b[39m, \u001b[39minput\u001b[39m: Tensor, target: Tensor) \u001b[39m-\u001b[39m\u001b[39m>\u001b[39m Tensor:\n\u001b[1;32m--> 619\u001b[0m     \u001b[39mreturn\u001b[39;00m F\u001b[39m.\u001b[39;49mbinary_cross_entropy(\u001b[39minput\u001b[39;49m, target, weight\u001b[39m=\u001b[39;49m\u001b[39mself\u001b[39;49m\u001b[39m.\u001b[39;49mweight, reduction\u001b[39m=\u001b[39;49m\u001b[39mself\u001b[39;49m\u001b[39m.\u001b[39;49mreduction)\n",
            "File \u001b[1;32mc:\\Python39\\lib\\site-packages\\torch\\nn\\functional.py:3095\u001b[0m, in \u001b[0;36mbinary_cross_entropy\u001b[1;34m(input, target, weight, size_average, reduce, reduction)\u001b[0m\n\u001b[0;32m   3092\u001b[0m     new_size \u001b[39m=\u001b[39m _infer_size(target\u001b[39m.\u001b[39msize(), weight\u001b[39m.\u001b[39msize())\n\u001b[0;32m   3093\u001b[0m     weight \u001b[39m=\u001b[39m weight\u001b[39m.\u001b[39mexpand(new_size)\n\u001b[1;32m-> 3095\u001b[0m \u001b[39mreturn\u001b[39;00m torch\u001b[39m.\u001b[39;49m_C\u001b[39m.\u001b[39;49m_nn\u001b[39m.\u001b[39;49mbinary_cross_entropy(\u001b[39minput\u001b[39;49m, target, weight, reduction_enum)\n",
            "\u001b[1;31mRuntimeError\u001b[0m: all elements of input should be between 0 and 1"
          ]
        }
      ],
      "source": [
        "# Some layers, such as Dropout, behave differently during training\n",
        "model.train()\n",
        "\n",
        "for epoch in range(20):\n",
        "    for batch_idx, (data, target) in enumerate(train_loader):\n",
        "        # Erase accumulated gradients\n",
        "        optimizer.zero_grad()\n",
        "\n",
        "        # Forward pass\n",
        "        output = model(data)\n",
        "\n",
        "        target = target.unsqueeze(1)\n",
        "        # Calculate loss\n",
        "        loss = loss_fn(output, target)\n",
        "\n",
        "        # Backward pass\n",
        "        loss.backward()\n",
        "        \n",
        "        # Weight update\n",
        "        optimizer.step()\n",
        "\n",
        "    # Track loss each epoch\n",
        "    print('Train Epoch: %d  Loss: %.4f' % (epoch + 1,  loss.item()))"
      ]
    },
    {
      "cell_type": "markdown",
      "metadata": {
        "id": "YZCNGh5mNbE0"
      },
      "source": [
        "## Testing Loop"
      ]
    },
    {
      "cell_type": "code",
      "execution_count": null,
      "metadata": {
        "colab": {
          "base_uri": "https://localhost:8080/"
        },
        "id": "2SxnJ3eHNfgb",
        "outputId": "e00d1856-9b86-4226-e5b7-fa2eeb80aed1"
      },
      "outputs": [
        {
          "name": "stdout",
          "output_type": "stream",
          "text": [
            "Test set: Average loss: nan, Accuracy: 1035/2079 (49.7835)\n"
          ]
        }
      ],
      "source": [
        "model.eval()\n",
        "\n",
        "test_loss = 0\n",
        "correct = 0\n",
        "\n",
        "# Turning off automatic differentiation\n",
        "with torch.no_grad():\n",
        "    for data, target in test_loader:\n",
        "        output = model(data)\n",
        "        target = target.unsqueeze(1)\n",
        "        test_loss += loss_fn(output, target).item()  # Sum up batch loss\n",
        "        pred = output.argmax(dim=1, keepdim=True)  # Get the index of the max class score\n",
        "        correct += pred.eq(target.view_as(pred)).sum().item()\n",
        "\n",
        "test_loss /= len(test_loader.dataset)\n",
        "\n",
        "print('Test set: Average loss: %.4f, Accuracy: %d/%d (%.4f)' %\n",
        "      (test_loss, correct, len(test_loader.dataset),\n",
        "       100. * correct / len(test_loader.dataset)))"
      ]
    },
    {
      "cell_type": "markdown",
      "metadata": {
        "id": "sf9UHC-kZ25f"
      },
      "source": [
        "## Weight Matrix Visualization"
      ]
    },
    {
      "cell_type": "code",
      "execution_count": null,
      "metadata": {
        "colab": {
          "base_uri": "https://localhost:8080/",
          "height": 283
        },
        "id": "aBXDC10mRNto",
        "outputId": "40b37b9b-1eca-44ea-e018-37b736ec6252"
      },
      "outputs": [
        {
          "name": "stderr",
          "output_type": "stream",
          "text": [
            "c:\\Python39\\lib\\site-packages\\seaborn\\matrix.py:198: RuntimeWarning: All-NaN slice encountered\n",
            "  vmin = np.nanmin(calc_data)\n",
            "c:\\Python39\\lib\\site-packages\\seaborn\\matrix.py:203: RuntimeWarning: All-NaN slice encountered\n",
            "  vmax = np.nanmax(calc_data)\n"
          ]
        },
        {
          "data": {
            "text/plain": [
              "<AxesSubplot:>"
            ]
          },
          "execution_count": 19,
          "metadata": {},
          "output_type": "execute_result"
        },
        {
          "data": {
            "image/png": "[encoded data removed]",
            "text/plain": [
              "<Figure size 640x480 with 2 Axes>"
            ]
          },
          "metadata": {},
          "output_type": "display_data"
        }
      ],
      "source": [
        "weights = model.state_dict()['1.weight']\n",
        "\n",
        "sns.heatmap(weights)"
      ]
    },
    {
      "cell_type": "markdown",
      "metadata": {
        "id": "91H6-NUVZ8Gd"
      },
      "source": [
        "# Part C: 2-Layer Linear Model"
      ]
    },
    {
      "cell_type": "code",
      "execution_count": null,
      "metadata": {
        "colab": {
          "base_uri": "https://localhost:8080/"
        },
        "id": "SUd6CAB-WebM",
        "outputId": "883981f5-108e-41c7-8dda-9028f526812c"
      },
      "outputs": [
        {
          "name": "stdout",
          "output_type": "stream",
          "text": [
            "Sequential(\n",
            "  (0): Flatten(start_dim=1, end_dim=-1)\n",
            "  (1): Linear(in_features=5, out_features=3, bias=True)\n",
            "  (2): Linear(in_features=3, out_features=1, bias=True)\n",
            "  (3): Softmax(dim=1)\n",
            ")\n"
          ]
        }
      ],
      "source": [
        "model = nn.Sequential(\n",
        "\n",
        "    nn.Flatten(),\n",
        "    nn.Linear(5, 3),\n",
        "    nn.Linear(3, 1),\n",
        "    #nn.Dropout(0.07),\n",
        "    nn.Softmax(dim=1)\n",
        ")\n",
        "print(model)\n",
        "\n",
        "optimizer = torch.optim.Adam(model.parameters(), lr=5e-5)\n",
        "loss_fn = nn.BCELoss()"
      ]
    }
  ],
  "metadata": {
    "colab": {
      "provenance": []
    },
    "kernelspec": {
      "display_name": "Python 3",
      "language": "python",
      "name": "python3"
    },
    "language_info": {
      "codemirror_mode": {
        "name": "ipython",
        "version": 3
      },
      "file_extension": ".py",
      "mimetype": "text/x-python",
      "name": "python",
      "nbconvert_exporter": "python",
      "pygments_lexer": "ipython3",
      "version": "3.9.5"
    },
    "vscode": {
      "interpreter": {
        "hash": "81794d4967e6c3204c66dcd87b604927b115b27c00565d3d43f05ba2f3a2cb0d"
      }
    }
  },
  "nbformat": 4,
  "nbformat_minor": 0
}
