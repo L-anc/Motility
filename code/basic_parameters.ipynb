{
  "cells": [
    {
      "cell_type": "markdown",
      "metadata": {
        "id": "6WZsJE6InQvH"
      },
      "source": [
        "# Problem 3 Sample Code\n",
        "\n",
        "This sample code is meant as a guide on how to use PyTorch and how to use the relevant model layers. This not a guide on how to design a network and the network in this example is intentionally designed to have poor performace."
      ]
    },
    {
      "cell_type": "code",
      "execution_count": 2,
      "metadata": {
        "id": "pRd994oKnQvI"
      },
      "outputs": [],
      "source": [
        "import numpy as np\n",
        "import matplotlib.pyplot as plt\n",
        "%matplotlib inline\n",
        "\n",
        "import torch\n",
        "import torch.nn as nn\n",
        "import torch.nn.functional as F\n",
        "import pandas as pd\n",
        "from torch.utils.data import TensorDataset, Dataset, DataLoader\n",
        "import seaborn as sns\n",
        "from sklearn.model_selection import train_test_split\n",
        "from scipy import stats"
      ]
    },
    {
      "cell_type": "code",
      "execution_count": 3,
      "metadata": {
        "id": "T8ui5hmKnQvJ"
      },
      "outputs": [],
      "source": [
        "df = pd.read_csv('out.csv')\n",
        "df = df.drop(columns= \"uid\")\n",
        "\n",
        "df[(np.abs(stats.zscore(df)) < 3).any(axis=1)]\n",
        "# print(\"===dataframe=== \\n {}\".format(df))\n",
        "# print (\"df after drop \\n{}\".format(df))\n",
        "# df['split'] = np.random.randn(df.shape[0], 1)\n",
        "# msk = np.random.rand(len(df)) <= 0.7\n",
        "\n",
        "# train = df[msk]\n",
        "# train.drop(['split'], axis=1, inplace=True)\n",
        "# test = df[~msk]\n",
        "# test.drop(['split'], axis=1, inplace=True)\n",
        "X = df.copy()\n",
        "X = X.drop(columns=[\"label\"])\n",
        "\n",
        "\n",
        "# print(\" - pre X \\n {} - \".format(X))\n",
        "\n",
        "for col in X:\n",
        "    X[col] = [(element - np.mean(X[col])) / np.std(X[col]) for element in X[col]]\n",
        "\n",
        "X = np.array(X)\n",
        "\n",
        "# def normalize(x):\n",
        "#     x = np.asarray(x)\n",
        "#     return (x - x.min()) / (np.ptp(x))\n",
        "# X_normed = []\n",
        "# for i in range(0, len(X)):\n",
        "#     X_normed.append(X[i])\n",
        "# # X = (X - X.mean())/(X.std())\n",
        "# print(\" - NORMALIZED  X \\n {} - \".format(X_normed))\n",
        "\n",
        "y = np.array(df[\"label\"])\n",
        "\n",
        "train_X, test_X, train_y, test_y = train_test_split(X, y, test_size=0.2)\n",
        "# print(\" pre TRAIN X \\n {}\".format(train_X))\n",
        "\n",
        "train_X = torch.tensor(train_X, dtype=torch.float32)\n",
        "# print(\"TENSOR  X \\n {}\".format(train_X))\n",
        "train_y = torch.tensor(train_y, dtype=torch.float32)\n",
        "# 80/20 x values as floats\n",
        "test_X = torch.tensor(test_X, dtype=torch.float32)\n",
        "test_y = torch.tensor(test_y, dtype=torch.float32)\n",
        "\n",
        "train_dataset = TensorDataset(train_X, train_y)\n",
        "test_dataset = TensorDataset(test_X, test_y)\n",
        "\n",
        "train_loader = torch.utils.data.DataLoader(train_dataset, batch_size=10, shuffle=True)\n",
        "test_loader = torch.utils.data.DataLoader(test_dataset, batch_size=10, shuffle=True) \n",
        "\n",
        "# print (\"x \\n{}\".format(df))\n",
        "# print (\"y \\n{}\".format(df))\n",
        "\n",
        "\n",
        "# x_train = torch.tensor(train[['chi','lin_reg','lin_reg_chi','stddev_step_speed']].copy().to_numpy(), dtype=torch.float32)\n",
        "# y_train = torch.tensor(train['label'].copy().to_numpy(), dtype=torch.long)\n",
        "# x_test = torch.tensor(train[['chi','lin_reg','lin_reg_chi','stddev_step_speed']].copy().to_numpy(), dtype=torch.float32)\n",
        "# y_test = torch.tensor(train['label'].copy().to_numpy(), dtype=torch.long)\n",
        "# train_dataset = TensorDataset(x_train, y_train)\n",
        "# test_dataset = TensorDataset(x_test, y_test)"
      ]
    },
    {
      "cell_type": "markdown",
      "metadata": {
        "id": "_kAG49-4nQvK"
      },
      "source": [
        "We can convert images to numpy arrays and plot them with matplotlib:"
      ]
    },
    {
      "cell_type": "markdown",
      "metadata": {
        "id": "x0VSOS2TnQvL"
      },
      "source": [
        "## Network Definition\n",
        "Let's instantiate a model and take a look at the layers."
      ]
    },
    {
      "cell_type": "code",
      "execution_count": 4,
      "metadata": {
        "colab": {
          "base_uri": "https://localhost:8080/"
        },
        "id": "NT73uPcbnQvL",
        "outputId": "9af8e298-58c2-4110-c1c4-f7abd30472c9",
        "scrolled": false
      },
      "outputs": [
        {
          "data": {
            "text/plain": [
              "<torch._C.Generator at 0x15fd74766b0>"
            ]
          },
          "execution_count": 4,
          "metadata": {},
          "output_type": "execute_result"
        }
      ],
      "source": [
        "model = nn.Sequential(\n",
        "    nn.Linear(4, 2),\n",
        "    nn.ReLU(),\n",
        "    nn.Linear(2, 1),\n",
        "    nn.Sigmoid()\n",
        ")\n",
        "\n",
        "# def init_weights(m):\n",
        "#     if isinstance(m, nn.Linear):\n",
        "#         torch.nn.init.xavier_uniform(m.weight)\n",
        "#         m.bias.data.fill_(0.01)\n",
        "\n",
        "# model.apply(init_weights)\n",
        "\n",
        "optimizer = torch.optim.Adam(model.parameters(), lr=1e-5)\n",
        "loss_fn = nn.BCELoss()\n",
        "# loss_fn = nn.CrossEntropyLoss()\n",
        "torch.manual_seed(15552494823729223621)"
      ]
    },
    {
      "cell_type": "markdown",
      "metadata": {
        "id": "vkzr6hvjnQvM"
      },
      "source": [
        "## Training\n",
        "We also choose an optimizer and a loss function."
      ]
    },
    {
      "cell_type": "markdown",
      "metadata": {
        "id": "YLaXzBQjnQvM"
      },
      "source": [
        "We could write our training procedure manually and directly index the `Dataset` objects, but the `DataLoader` object conveniently creates an iterable for automatically creating random minibatches:"
      ]
    },
    {
      "cell_type": "markdown",
      "metadata": {
        "id": "6EJRa6ndnQvM"
      },
      "source": [
        "We now write our backpropagation loop, training for 10 epochs."
      ]
    },
    {
      "cell_type": "code",
      "execution_count": 5,
      "metadata": {
        "colab": {
          "base_uri": "https://localhost:8080/"
        },
        "id": "8O3-pMlInQvM",
        "outputId": "26e030ff-ea74-4177-e94e-7437abee7432"
      },
      "outputs": [
        {
          "name": "stdout",
          "output_type": "stream",
          "text": [
            " -- OUTPUT -- \n",
            "tensor([0.4478, 0.4561, 0.4500, 0.4561, 0.4561, 0.4891, 0.5009, 0.5307, 0.5001,\n",
            "        0.4404], grad_fn=<ReshapeAliasBackward0>)\n",
            " -- OUTPUT -- \n",
            "tensor([0.4566, 0.4447, 0.4561, 0.5254, 0.4940, 0.4874, 0.4532, 0.4441, 0.4963,\n",
            "        0.5034], grad_fn=<ReshapeAliasBackward0>)\n",
            " -- OUTPUT -- \n",
            "tensor([0.4561, 0.4561, 0.4481, 0.4561, 0.4561, 0.4420, 0.4530, 0.4561, 0.4561,\n",
            "        0.4852], grad_fn=<ReshapeAliasBackward0>)\n",
            " -- OUTPUT -- \n",
            "tensor([0.4630, 0.4469, 0.4561, 0.4510, 0.4415, 0.4417, 0.4243, 0.4705, 0.4561,\n",
            "        0.4495], grad_fn=<ReshapeAliasBackward0>)\n",
            " -- OUTPUT -- \n",
            "tensor([0.4451, 0.4497, 0.3586, 0.5301, 0.4561, 0.5174, 0.4561, 0.4244, 0.4904,\n",
            "        0.4561], grad_fn=<ReshapeAliasBackward0>)\n",
            " -- OUTPUT -- \n",
            "tensor([0.4561, 0.4684, 0.4851, 0.4535, 0.4866, 0.4561, 0.4454, 0.4561, 0.5298,\n",
            "        0.4697], grad_fn=<ReshapeAliasBackward0>)\n",
            " -- OUTPUT -- \n",
            "tensor([0.4688, 0.4561, 0.4561, 0.4730, 0.4871, 0.4894, 0.4719, 0.4561, 0.4287,\n",
            "        0.4886], grad_fn=<ReshapeAliasBackward0>)\n",
            " -- OUTPUT -- \n",
            "tensor([0.4561, 0.4513, 0.5081, 0.5086, 0.4932, 0.4490, 0.4561, 0.4431, 0.4561,\n",
            "        0.4561], grad_fn=<ReshapeAliasBackward0>)\n",
            " -- OUTPUT -- \n",
            "tensor([0.4152, 0.4561, 0.4697, 0.4561, 0.4493, 0.4487, 0.4423, 0.5040, 0.4561,\n",
            "        0.4561], grad_fn=<ReshapeAliasBackward0>)\n",
            " -- OUTPUT -- \n",
            "tensor([0.4569, 0.4432, 0.4261, 0.4561, 0.4409, 0.5172, 0.3630, 0.4561, 0.4561,\n",
            "        0.4561], grad_fn=<ReshapeAliasBackward0>)\n",
            " -- OUTPUT -- \n",
            "tensor([0.4561, 0.4561, 0.4466, 0.4561, 0.4561, 0.4430, 0.4561, 0.4450, 0.4375,\n",
            "        0.4410], grad_fn=<ReshapeAliasBackward0>)\n",
            " -- OUTPUT -- \n",
            "tensor([0.4561, 0.4628, 0.5125, 0.4561, 0.4561, 0.4561, 0.5026, 0.4561, 0.4439,\n",
            "        0.4458], grad_fn=<ReshapeAliasBackward0>)\n",
            " -- OUTPUT -- \n",
            "tensor([0.4490, 0.5036, 0.4804, 0.4561, 0.4181, 0.4578, 0.4561, 0.4835, 0.5325,\n",
            "        0.4439], grad_fn=<ReshapeAliasBackward0>)\n",
            " -- OUTPUT -- \n",
            "tensor([0.4566, 0.4561, 0.5072, 0.4756, 0.4300, 0.3751, 0.4434, 0.4773, 0.4821,\n",
            "        0.5085], grad_fn=<ReshapeAliasBackward0>)\n",
            " -- OUTPUT -- \n",
            "tensor([0.4411, 0.4725, 0.4596, 0.4561, 0.4561, 0.4545, 0.4815, 0.4797, 0.4561,\n",
            "        0.4561], grad_fn=<ReshapeAliasBackward0>)\n",
            " -- OUTPUT -- \n",
            "tensor([0.4561, 0.4467, 0.4416, 0.4561, 0.4561, 0.4561, 0.5168, 0.4609, 0.4561,\n",
            "        0.4561], grad_fn=<ReshapeAliasBackward0>)\n",
            " -- OUTPUT -- \n",
            "tensor([0.4561, 0.4561, 0.4411, 0.4561, 0.4561, 0.4829, 0.4561, 0.4640, 0.4561,\n",
            "        0.5159], grad_fn=<ReshapeAliasBackward0>)\n",
            " -- OUTPUT -- \n",
            "tensor([0.4457, 0.5093, 0.4426, 0.4470, 0.4475, 0.4561, 0.4561, 0.4561, 0.4419,\n",
            "        0.4954], grad_fn=<ReshapeAliasBackward0>)\n",
            " -- OUTPUT -- \n",
            "tensor([0.4731, 0.4561, 0.5103, 0.4215, 0.4428, 0.4484, 0.4896, 0.5215, 0.4406,\n",
            "        0.4561], grad_fn=<ReshapeAliasBackward0>)\n",
            " -- OUTPUT -- \n",
            "tensor([0.5000, 0.4561, 0.5180, 0.4561, 0.4561, 0.4561, 0.4436, 0.4591, 0.4561,\n",
            "        0.4172], grad_fn=<ReshapeAliasBackward0>)\n",
            " -- OUTPUT -- \n",
            "tensor([0.4681, 0.3679, 0.4561, 0.4561, 0.4823, 0.4379, 0.4495, 0.4561, 0.4561,\n",
            "        0.5401], grad_fn=<ReshapeAliasBackward0>)\n",
            " -- OUTPUT -- \n",
            "tensor([0.5640, 0.4441, 0.4935, 0.4815, 0.4769, 0.4561, 0.4561, 0.4467, 0.4561,\n",
            "        0.4397], grad_fn=<ReshapeAliasBackward0>)\n",
            " -- OUTPUT -- \n",
            "tensor([0.4561, 0.4871, 0.4850, 0.4561, 0.4475, 0.4561, 0.4450, 0.4482, 0.4755,\n",
            "        0.4617], grad_fn=<ReshapeAliasBackward0>)\n",
            " -- OUTPUT -- \n",
            "tensor([0.4672, 0.5352, 0.4561, 0.4379, 0.4435, 0.4561, 0.4561, 0.4561, 0.4561,\n",
            "        0.4561], grad_fn=<ReshapeAliasBackward0>)\n",
            " -- OUTPUT -- \n",
            "tensor([0.4561, 0.4528, 0.4535, 0.4486, 0.5173, 0.4513, 0.4561, 0.5066, 0.4849,\n",
            "        0.4664], grad_fn=<ReshapeAliasBackward0>)\n",
            " -- OUTPUT -- \n",
            "tensor([0.4467, 0.4122, 0.4561, 0.4561, 0.4561, 0.4561, 0.4779, 0.4486, 0.4333,\n",
            "        0.4882], grad_fn=<ReshapeAliasBackward0>)\n",
            " -- OUTPUT -- \n",
            "tensor([0.4455, 0.4434, 0.4561, 0.4561, 0.4777, 0.4561, 0.4472, 0.4799, 0.4768,\n",
            "        0.4561], grad_fn=<ReshapeAliasBackward0>)\n",
            " -- OUTPUT -- \n",
            "tensor([   nan, 0.4876, 0.4435, 0.4498, 0.4656, 0.4793, 0.5165, 0.4561, 0.4214,\n",
            "        0.4561], grad_fn=<ReshapeAliasBackward0>)\n"
          ]
        },
        {
          "ename": "RuntimeError",
          "evalue": "all elements of input should be between 0 and 1",
          "output_type": "error",
          "traceback": [
            "\u001b[1;31m---------------------------------------------------------------------------\u001b[0m",
            "\u001b[1;31mRuntimeError\u001b[0m                              Traceback (most recent call last)",
            "Cell \u001b[1;32mIn[5], line 18\u001b[0m\n\u001b[0;32m     14\u001b[0m \u001b[39mprint\u001b[39m(\u001b[39m\"\u001b[39m\u001b[39m -- OUTPUT -- \u001b[39m\u001b[39m\\n\u001b[39;00m\u001b[39m{}\u001b[39;00m\u001b[39m\"\u001b[39m\u001b[39m.\u001b[39mformat(output))\n\u001b[0;32m     15\u001b[0m \u001b[39m# print(\" -- TARGET -- \\n{}\".format(target))\u001b[39;00m\n\u001b[0;32m     16\u001b[0m \n\u001b[0;32m     17\u001b[0m \u001b[39m# Calculate loss\u001b[39;00m\n\u001b[1;32m---> 18\u001b[0m loss \u001b[39m=\u001b[39m loss_fn(output, target)\n\u001b[0;32m     20\u001b[0m \u001b[39m# Backward pass\u001b[39;00m\n\u001b[0;32m     21\u001b[0m loss\u001b[39m.\u001b[39mbackward()\n",
            "File \u001b[1;32m~\\AppData\\Local\\Packages\\PythonSoftwareFoundation.Python.3.9_qbz5n2kfra8p0\\LocalCache\\local-packages\\Python39\\site-packages\\torch\\nn\\modules\\module.py:1194\u001b[0m, in \u001b[0;36mModule._call_impl\u001b[1;34m(self, *input, **kwargs)\u001b[0m\n\u001b[0;32m   1190\u001b[0m \u001b[39m# If we don't have any hooks, we want to skip the rest of the logic in\u001b[39;00m\n\u001b[0;32m   1191\u001b[0m \u001b[39m# this function, and just call forward.\u001b[39;00m\n\u001b[0;32m   1192\u001b[0m \u001b[39mif\u001b[39;00m \u001b[39mnot\u001b[39;00m (\u001b[39mself\u001b[39m\u001b[39m.\u001b[39m_backward_hooks \u001b[39mor\u001b[39;00m \u001b[39mself\u001b[39m\u001b[39m.\u001b[39m_forward_hooks \u001b[39mor\u001b[39;00m \u001b[39mself\u001b[39m\u001b[39m.\u001b[39m_forward_pre_hooks \u001b[39mor\u001b[39;00m _global_backward_hooks\n\u001b[0;32m   1193\u001b[0m         \u001b[39mor\u001b[39;00m _global_forward_hooks \u001b[39mor\u001b[39;00m _global_forward_pre_hooks):\n\u001b[1;32m-> 1194\u001b[0m     \u001b[39mreturn\u001b[39;00m forward_call(\u001b[39m*\u001b[39m\u001b[39minput\u001b[39m, \u001b[39m*\u001b[39m\u001b[39m*\u001b[39mkwargs)\n\u001b[0;32m   1195\u001b[0m \u001b[39m# Do not call functions when jit is used\u001b[39;00m\n\u001b[0;32m   1196\u001b[0m full_backward_hooks, non_full_backward_hooks \u001b[39m=\u001b[39m [], []\n",
            "File \u001b[1;32m~\\AppData\\Local\\Packages\\PythonSoftwareFoundation.Python.3.9_qbz5n2kfra8p0\\LocalCache\\local-packages\\Python39\\site-packages\\torch\\nn\\modules\\loss.py:619\u001b[0m, in \u001b[0;36mBCELoss.forward\u001b[1;34m(self, input, target)\u001b[0m\n\u001b[0;32m    618\u001b[0m \u001b[39mdef\u001b[39;00m \u001b[39mforward\u001b[39m(\u001b[39mself\u001b[39m, \u001b[39minput\u001b[39m: Tensor, target: Tensor) \u001b[39m-\u001b[39m\u001b[39m>\u001b[39m Tensor:\n\u001b[1;32m--> 619\u001b[0m     \u001b[39mreturn\u001b[39;00m F\u001b[39m.\u001b[39;49mbinary_cross_entropy(\u001b[39minput\u001b[39;49m, target, weight\u001b[39m=\u001b[39;49m\u001b[39mself\u001b[39;49m\u001b[39m.\u001b[39;49mweight, reduction\u001b[39m=\u001b[39;49m\u001b[39mself\u001b[39;49m\u001b[39m.\u001b[39;49mreduction)\n",
            "File \u001b[1;32m~\\AppData\\Local\\Packages\\PythonSoftwareFoundation.Python.3.9_qbz5n2kfra8p0\\LocalCache\\local-packages\\Python39\\site-packages\\torch\\nn\\functional.py:3095\u001b[0m, in \u001b[0;36mbinary_cross_entropy\u001b[1;34m(input, target, weight, size_average, reduce, reduction)\u001b[0m\n\u001b[0;32m   3092\u001b[0m     new_size \u001b[39m=\u001b[39m _infer_size(target\u001b[39m.\u001b[39msize(), weight\u001b[39m.\u001b[39msize())\n\u001b[0;32m   3093\u001b[0m     weight \u001b[39m=\u001b[39m weight\u001b[39m.\u001b[39mexpand(new_size)\n\u001b[1;32m-> 3095\u001b[0m \u001b[39mreturn\u001b[39;00m torch\u001b[39m.\u001b[39;49m_C\u001b[39m.\u001b[39;49m_nn\u001b[39m.\u001b[39;49mbinary_cross_entropy(\u001b[39minput\u001b[39;49m, target, weight, reduction_enum)\n",
            "\u001b[1;31mRuntimeError\u001b[0m: all elements of input should be between 0 and 1"
          ]
        }
      ],
      "source": [
        "model.train()\n",
        "\n",
        "for epoch in range(20):\n",
        "    for batch_idx, (data, target) in enumerate(train_loader):\n",
        "        # print(\"data \\n{}\".format(data))\n",
        "        # Erase accumulated gradients\n",
        "\n",
        "        optimizer.zero_grad()\n",
        "\n",
        "        # Forward pass\n",
        "        output = model(data)\n",
        "        #print(\" -- OPUTPUT -- \\n{}\".format(output))\n",
        "        output = output.flatten()\n",
        "        print(\" -- OUTPUT -- \\n{}\".format(output))\n",
        "        # print(\" -- TARGET -- \\n{}\".format(target))\n",
        "\n",
        "        # Calculate loss\n",
        "        loss = loss_fn(output, target)\n",
        "\n",
        "        # Backward pass\n",
        "        loss.backward()\n",
        "        \n",
        "        # torch.nn.utils.clip_grad_norm_(model.parameters(), 0.01)\n",
        "        torch.nn.utils.clip_grad_value_(model.parameters(), 10000)\n",
        "\n",
        "        # Weight update\n",
        "        optimizer.step()\n",
        "\n",
        "    # Track loss each epoch\n",
        "    print('Train Epoch: %d  Loss: %.4f' % (epoch + 1,  loss.item()))"
      ]
    },
    {
      "cell_type": "markdown",
      "metadata": {
        "id": "G4p-4iZDnQvN"
      },
      "source": [
        "## Testing\n",
        "We can perform forward passes through the network without saving gradients."
      ]
    },
    {
      "cell_type": "code",
      "execution_count": null,
      "metadata": {
        "colab": {
          "base_uri": "https://localhost:8080/"
        },
        "id": "jGzLHGFfnQvN",
        "outputId": "70c957a0-e909-4b4b-c0e0-02d70f65b51b"
      },
      "outputs": [
        {
          "ename": "ValueError",
          "evalue": "Target size (torch.Size([32])) must be the same as input size (torch.Size([32, 1]))",
          "output_type": "error",
          "traceback": [
            "\u001b[1;31m---------------------------------------------------------------------------\u001b[0m",
            "\u001b[1;31mValueError\u001b[0m                                Traceback (most recent call last)",
            "Cell \u001b[1;32mIn[14], line 11\u001b[0m\n\u001b[0;32m      9\u001b[0m \u001b[39mfor\u001b[39;00m data, target \u001b[39min\u001b[39;00m test_loader:\n\u001b[0;32m     10\u001b[0m     output \u001b[39m=\u001b[39m model(data)\n\u001b[1;32m---> 11\u001b[0m     test_loss \u001b[39m+\u001b[39m\u001b[39m=\u001b[39m loss_fn(output, target)\u001b[39m.\u001b[39mitem()  \u001b[39m# Sum up batch loss\u001b[39;00m\n\u001b[0;32m     12\u001b[0m     pred \u001b[39m=\u001b[39m output\u001b[39m.\u001b[39margmax(dim\u001b[39m=\u001b[39m\u001b[39m1\u001b[39m, keepdim\u001b[39m=\u001b[39m\u001b[39mTrue\u001b[39;00m)  \u001b[39m# Get the index of the max class score\u001b[39;00m\n\u001b[0;32m     13\u001b[0m     correct \u001b[39m+\u001b[39m\u001b[39m=\u001b[39m pred\u001b[39m.\u001b[39meq(target\u001b[39m.\u001b[39mview_as(pred))\u001b[39m.\u001b[39msum()\u001b[39m.\u001b[39mitem()\n",
            "File \u001b[1;32mc:\\Python39\\lib\\site-packages\\torch\\nn\\modules\\module.py:1194\u001b[0m, in \u001b[0;36mModule._call_impl\u001b[1;34m(self, *input, **kwargs)\u001b[0m\n\u001b[0;32m   1190\u001b[0m \u001b[39m# If we don't have any hooks, we want to skip the rest of the logic in\u001b[39;00m\n\u001b[0;32m   1191\u001b[0m \u001b[39m# this function, and just call forward.\u001b[39;00m\n\u001b[0;32m   1192\u001b[0m \u001b[39mif\u001b[39;00m \u001b[39mnot\u001b[39;00m (\u001b[39mself\u001b[39m\u001b[39m.\u001b[39m_backward_hooks \u001b[39mor\u001b[39;00m \u001b[39mself\u001b[39m\u001b[39m.\u001b[39m_forward_hooks \u001b[39mor\u001b[39;00m \u001b[39mself\u001b[39m\u001b[39m.\u001b[39m_forward_pre_hooks \u001b[39mor\u001b[39;00m _global_backward_hooks\n\u001b[0;32m   1193\u001b[0m         \u001b[39mor\u001b[39;00m _global_forward_hooks \u001b[39mor\u001b[39;00m _global_forward_pre_hooks):\n\u001b[1;32m-> 1194\u001b[0m     \u001b[39mreturn\u001b[39;00m forward_call(\u001b[39m*\u001b[39m\u001b[39minput\u001b[39m, \u001b[39m*\u001b[39m\u001b[39m*\u001b[39mkwargs)\n\u001b[0;32m   1195\u001b[0m \u001b[39m# Do not call functions when jit is used\u001b[39;00m\n\u001b[0;32m   1196\u001b[0m full_backward_hooks, non_full_backward_hooks \u001b[39m=\u001b[39m [], []\n",
            "File \u001b[1;32mc:\\Python39\\lib\\site-packages\\torch\\nn\\modules\\loss.py:720\u001b[0m, in \u001b[0;36mBCEWithLogitsLoss.forward\u001b[1;34m(self, input, target)\u001b[0m\n\u001b[0;32m    719\u001b[0m \u001b[39mdef\u001b[39;00m \u001b[39mforward\u001b[39m(\u001b[39mself\u001b[39m, \u001b[39minput\u001b[39m: Tensor, target: Tensor) \u001b[39m-\u001b[39m\u001b[39m>\u001b[39m Tensor:\n\u001b[1;32m--> 720\u001b[0m     \u001b[39mreturn\u001b[39;00m F\u001b[39m.\u001b[39;49mbinary_cross_entropy_with_logits(\u001b[39minput\u001b[39;49m, target,\n\u001b[0;32m    721\u001b[0m                                               \u001b[39mself\u001b[39;49m\u001b[39m.\u001b[39;49mweight,\n\u001b[0;32m    722\u001b[0m                                               pos_weight\u001b[39m=\u001b[39;49m\u001b[39mself\u001b[39;49m\u001b[39m.\u001b[39;49mpos_weight,\n\u001b[0;32m    723\u001b[0m                                               reduction\u001b[39m=\u001b[39;49m\u001b[39mself\u001b[39;49m\u001b[39m.\u001b[39;49mreduction)\n",
            "File \u001b[1;32mc:\\Python39\\lib\\site-packages\\torch\\nn\\functional.py:3160\u001b[0m, in \u001b[0;36mbinary_cross_entropy_with_logits\u001b[1;34m(input, target, weight, size_average, reduce, reduction, pos_weight)\u001b[0m\n\u001b[0;32m   3157\u001b[0m     reduction_enum \u001b[39m=\u001b[39m _Reduction\u001b[39m.\u001b[39mget_enum(reduction)\n\u001b[0;32m   3159\u001b[0m \u001b[39mif\u001b[39;00m \u001b[39mnot\u001b[39;00m (target\u001b[39m.\u001b[39msize() \u001b[39m==\u001b[39m \u001b[39minput\u001b[39m\u001b[39m.\u001b[39msize()):\n\u001b[1;32m-> 3160\u001b[0m     \u001b[39mraise\u001b[39;00m \u001b[39mValueError\u001b[39;00m(\u001b[39m\"\u001b[39m\u001b[39mTarget size (\u001b[39m\u001b[39m{}\u001b[39;00m\u001b[39m) must be the same as input size (\u001b[39m\u001b[39m{}\u001b[39;00m\u001b[39m)\u001b[39m\u001b[39m\"\u001b[39m\u001b[39m.\u001b[39mformat(target\u001b[39m.\u001b[39msize(), \u001b[39minput\u001b[39m\u001b[39m.\u001b[39msize()))\n\u001b[0;32m   3162\u001b[0m \u001b[39mreturn\u001b[39;00m torch\u001b[39m.\u001b[39mbinary_cross_entropy_with_logits(\u001b[39minput\u001b[39m, target, weight, pos_weight, reduction_enum)\n",
            "\u001b[1;31mValueError\u001b[0m: Target size (torch.Size([32])) must be the same as input size (torch.Size([32, 1]))"
          ]
        }
      ],
      "source": [
        "# Putting layers like Dropout into evaluation mode\n",
        "model.eval()\n",
        "\n",
        "test_loss = 0\n",
        "correct = 0\n",
        "\n",
        "# Turning off automatic differentiation\n",
        "with torch.no_grad():\n",
        "    for data, target in test_loader:\n",
        "        output = model(data)\n",
        "        test_loss += loss_fn(output, target).item()  # Sum up batch loss\n",
        "        pred = output.argmax(dim=1, keepdim=True)  # Get the index of the max class score\n",
        "        correct += pred.eq(target.view_as(pred)).sum().item()\n",
        "\n",
        "test_loss /= len(test_loader.dataset)\n",
        "\n",
        "print('Test set: Average loss: %.4f, Accuracy: %d/%d (%.4f)' %\n",
        "      (test_loss, correct, len(test_loader.dataset),\n",
        "       100. * correct / len(test_loader.dataset)))"
      ]
    }
  ],
  "metadata": {
    "accelerator": "GPU",
    "colab": {
      "provenance": []
    },
    "gpuClass": "standard",
    "kernelspec": {
      "display_name": "Python 3",
      "language": "python",
      "name": "python3"
    },
    "language_info": {
      "codemirror_mode": {
        "name": "ipython",
        "version": 3
      },
      "file_extension": ".py",
      "mimetype": "text/x-python",
      "name": "python",
      "nbconvert_exporter": "python",
      "pygments_lexer": "ipython3",
<<<<<<< HEAD:code/basic_parameters.ipynb
      "version": "3.9.13"
    },
    "vscode": {
      "interpreter": {
        "hash": "e899050e220c69a167a6653511abed74117c9f8925d4248e4a9bfeb9609dec5b"
=======
      "version": "3.10.0 (tags/v3.10.0:b494f59, Oct  4 2021, 19:00:18) [MSC v.1929 64 bit (AMD64)]"
    },
    "vscode": {
      "interpreter": {
        "hash": "dda672a310be459319e33936d755d25cc47c873f998185e8076c531d6ecce25e"
>>>>>>> cde25458dede6c32b9c7f40d218466f97e6c0f63:code/model_lucas.ipynb
      }
    }
  },
  "nbformat": 4,
  "nbformat_minor": 0
}
