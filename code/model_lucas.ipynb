{
  "cells": [
    {
      "cell_type": "markdown",
      "metadata": {
        "id": "6WZsJE6InQvH"
      },
      "source": [
        "# Problem 3 Sample Code\n",
        "\n",
        "This sample code is meant as a guide on how to use PyTorch and how to use the relevant model layers. This not a guide on how to design a network and the network in this example is intentionally designed to have poor performace."
      ]
    },
    {
      "cell_type": "code",
      "execution_count": 9,
      "metadata": {
        "id": "pRd994oKnQvI"
      },
      "outputs": [],
      "source": [
        "import numpy as np\n",
        "import matplotlib.pyplot as plt\n",
        "%matplotlib inline\n",
        "\n",
        "import torch\n",
        "import torch.nn as nn\n",
        "import torch.nn.functional as F\n",
        "import pandas as pd\n",
        "from torch.utils.data import TensorDataset, Dataset, DataLoader\n",
        "import seaborn as sns\n",
        "from sklearn.model_selection import train_test_split\n",
        "from scipy import stats"
      ]
    },
    {
      "cell_type": "code",
      "execution_count": 10,
      "metadata": {
        "id": "T8ui5hmKnQvJ"
      },
      "outputs": [],
      "source": [
        "df = pd.read_csv('out.csv')\n",
        "df = df.drop(columns= \"uid\")\n",
        "\n",
        "df[(np.abs(stats.zscore(df)) < 3).any(axis=1)]\n",
        "# print(\"===dataframe=== \\n {}\".format(df))\n",
        "# print (\"df after drop \\n{}\".format(df))\n",
        "# df['split'] = np.random.randn(df.shape[0], 1)\n",
        "# msk = np.random.rand(len(df)) <= 0.7\n",
        "\n",
        "# train = df[msk]\n",
        "# train.drop(['split'], axis=1, inplace=True)\n",
        "# test = df[~msk]\n",
        "# test.drop(['split'], axis=1, inplace=True)\n",
        "X = df.copy()\n",
        "X = X.drop(columns=[\"label\"])\n",
        "\n",
        "\n",
        "# print(\" - pre X \\n {} - \".format(X))\n",
        "\n",
        "for col in X:\n",
        "    X[col] = [(element - np.mean(X[col])) / np.std(X[col]) for element in X[col]]\n",
        "\n",
        "X = np.array(X)\n",
        "\n",
        "# def normalize(x):\n",
        "#     x = np.asarray(x)\n",
        "#     return (x - x.min()) / (np.ptp(x))\n",
        "# X_normed = []\n",
        "# for i in range(0, len(X)):\n",
        "#     X_normed.append(X[i])\n",
        "# # X = (X - X.mean())/(X.std())\n",
        "# print(\" - NORMALIZED  X \\n {} - \".format(X_normed))\n",
        "\n",
        "y = np.array(df[\"label\"])\n",
        "\n",
        "train_X, test_X, train_y, test_y = train_test_split(X, y, test_size=0.2)\n",
        "# print(\" pre TRAIN X \\n {}\".format(train_X))\n",
        "\n",
        "train_X = torch.tensor(train_X, dtype=torch.float32)\n",
        "# print(\"TENSOR  X \\n {}\".format(train_X))\n",
        "train_y = torch.tensor(train_y, dtype=torch.float32)\n",
        "# 80/20 x values as floats\n",
        "test_X = torch.tensor(test_X, dtype=torch.float32)\n",
        "test_y = torch.tensor(test_y, dtype=torch.float32)\n",
        "\n",
        "train_dataset = TensorDataset(train_X, train_y)\n",
        "test_dataset = TensorDataset(test_X, test_y)\n",
        "\n",
        "train_loader = torch.utils.data.DataLoader(train_dataset, batch_size=10, shuffle=True)\n",
        "test_loader = torch.utils.data.DataLoader(test_dataset, batch_size=10, shuffle=True) \n",
        "\n",
        "# print (\"x \\n{}\".format(df))\n",
        "# print (\"y \\n{}\".format(df))\n",
        "\n",
        "\n",
        "# x_train = torch.tensor(train[['chi','lin_reg','lin_reg_chi','stddev_step_speed']].copy().to_numpy(), dtype=torch.float32)\n",
        "# y_train = torch.tensor(train['label'].copy().to_numpy(), dtype=torch.long)\n",
        "# x_test = torch.tensor(train[['chi','lin_reg','lin_reg_chi','stddev_step_speed']].copy().to_numpy(), dtype=torch.float32)\n",
        "# y_test = torch.tensor(train['label'].copy().to_numpy(), dtype=torch.long)\n",
        "# train_dataset = TensorDataset(x_train, y_train)\n",
        "# test_dataset = TensorDataset(x_test, y_test)"
      ]
    },
    {
      "cell_type": "markdown",
      "metadata": {
        "id": "_kAG49-4nQvK"
      },
      "source": [
        "We can convert images to numpy arrays and plot them with matplotlib:"
      ]
    },
    {
      "cell_type": "markdown",
      "metadata": {
        "id": "x0VSOS2TnQvL"
      },
      "source": [
        "## Network Definition\n",
        "Let's instantiate a model and take a look at the layers."
      ]
    },
    {
      "cell_type": "code",
      "execution_count": 11,
      "metadata": {
        "colab": {
          "base_uri": "https://localhost:8080/"
        },
        "id": "NT73uPcbnQvL",
        "outputId": "9af8e298-58c2-4110-c1c4-f7abd30472c9",
        "scrolled": false
      },
      "outputs": [
        {
          "data": {
            "text/plain": [
              "<torch._C.Generator at 0x19748dff6b0>"
            ]
          },
          "execution_count": 11,
          "metadata": {},
          "output_type": "execute_result"
        }
      ],
      "source": [
        "model = nn.Sequential(\n",
        "    nn.Linear(4, 2),\n",
        "    nn.ReLU(),\n",
        "    nn.Linear(2, 1),\n",
        "    nn.Sigmoid()\n",
        ")\n",
        "\n",
        "# def init_weights(m):\n",
        "#     if isinstance(m, nn.Linear):\n",
        "#         torch.nn.init.xavier_uniform(m.weight)\n",
        "#         m.bias.data.fill_(0.01)\n",
        "\n",
        "# model.apply(init_weights)\n",
        "\n",
        "optimizer = torch.optim.Adam(model.parameters(), lr=1e-5)\n",
        "loss_fn = nn.BCELoss()\n",
        "# loss_fn = nn.CrossEntropyLoss()\n",
        "torch.manual_seed(15552494823729223621)"
      ]
    },
    {
      "cell_type": "markdown",
      "metadata": {
        "id": "vkzr6hvjnQvM"
      },
      "source": [
        "## Training\n",
        "We also choose an optimizer and a loss function."
      ]
    },
    {
      "cell_type": "markdown",
      "metadata": {
        "id": "YLaXzBQjnQvM"
      },
      "source": [
        "We could write our training procedure manually and directly index the `Dataset` objects, but the `DataLoader` object conveniently creates an iterable for automatically creating random minibatches:"
      ]
    },
    {
      "cell_type": "markdown",
      "metadata": {
        "id": "6EJRa6ndnQvM"
      },
      "source": [
        "We now write our backpropagation loop, training for 10 epochs."
      ]
    },
    {
      "cell_type": "code",
      "execution_count": 12,
      "metadata": {
        "colab": {
          "base_uri": "https://localhost:8080/"
        },
        "id": "8O3-pMlInQvM",
        "outputId": "26e030ff-ea74-4177-e94e-7437abee7432"
      },
      "outputs": [
        {
          "name": "stdout",
          "output_type": "stream",
          "text": [
            " -- OUTPUT -- \n",
            "tensor([0.6380, 0.6305, 0.6638, 0.6261, 0.6111, 0.6447, 0.6490, 0.6444, 0.6401,\n",
            "        0.6503], grad_fn=<ReshapeAliasBackward0>)\n",
            " -- OUTPUT -- \n",
            "tensor([0.6409, 0.6483, 0.6398, 0.6405, 0.6336, 0.6508, 0.6289, 0.6470, 0.6319,\n",
            "        0.6477], grad_fn=<ReshapeAliasBackward0>)\n",
            " -- OUTPUT -- \n",
            "tensor([0.6344, 0.6628, 0.6369, 0.4030, 0.3886, 0.6557, 0.3579, 0.6453, 0.6378,\n",
            "        0.6251], grad_fn=<ReshapeAliasBackward0>)\n",
            " -- OUTPUT -- \n",
            "tensor([0.6466, 0.6443, 0.6586, 0.1973, 0.4860, 0.6590, 0.6369, 0.6373, 0.4705,\n",
            "        0.6367], grad_fn=<ReshapeAliasBackward0>)\n",
            " -- OUTPUT -- \n",
            "tensor([0.6368, 0.6432, 0.6379, 0.6492, 0.6390, 0.3714, 0.6379, 0.6638, 0.6638,\n",
            "        0.6381], grad_fn=<ReshapeAliasBackward0>)\n",
            " -- OUTPUT -- \n",
            "tensor([0.4693, 0.6366, 0.5940, 0.6311, 0.6508, 0.6388, 0.6542, 0.6638, 0.6130,\n",
            "        0.6337], grad_fn=<ReshapeAliasBackward0>)\n",
            " -- OUTPUT -- \n",
            "tensor([0.6377, 0.6612, 0.5965, 0.6638, 0.6362, 0.6368, 0.5567, 0.6361, 0.6015,\n",
            "        0.6364], grad_fn=<ReshapeAliasBackward0>)\n",
            " -- OUTPUT -- \n",
            "tensor([0.5617, 0.5355, 0.6340, 0.6610, 0.6638, 0.6368, 0.6238, 0.4545, 0.5283,\n",
            "        0.6467], grad_fn=<ReshapeAliasBackward0>)\n",
            " -- OUTPUT -- \n",
            "tensor([0.6389, 0.5403, 0.5888, 0.6411, 0.6346, 0.6463, 0.6517, 0.4468, 0.6272,\n",
            "        0.5986], grad_fn=<ReshapeAliasBackward0>)\n",
            " -- OUTPUT -- \n",
            "tensor([0.5931, 0.6638, 0.6638, 0.6630, 0.6463, 0.6588, 0.4091, 0.6382, 0.6317,\n",
            "        0.6452], grad_fn=<ReshapeAliasBackward0>)\n",
            " -- OUTPUT -- \n",
            "tensor([0.6368, 0.0015, 0.6376, 0.6384, 0.6505, 0.6392, 0.6356, 0.6345, 0.6326,\n",
            "        0.6538], grad_fn=<ReshapeAliasBackward0>)\n",
            " -- OUTPUT -- \n",
            "tensor([0.6294, 0.6386, 0.6400, 0.6368, 0.6398, 0.6638, 0.6369, 0.6519, 0.6394,\n",
            "        0.6597], grad_fn=<ReshapeAliasBackward0>)\n",
            " -- OUTPUT -- \n",
            "tensor([0.6347, 0.6408, 0.6468, 0.6526, 0.6363, 0.5270, 0.6360, 0.6359, 0.6492,\n",
            "        0.1603], grad_fn=<ReshapeAliasBackward0>)\n",
            " -- OUTPUT -- \n",
            "tensor([0.6300, 0.6373, 0.6527, 0.6365, 0.4554, 0.6387, 0.6259, 0.5269, 0.5221,\n",
            "        0.6468], grad_fn=<ReshapeAliasBackward0>)\n",
            " -- OUTPUT -- \n",
            "tensor([0.6542, 0.6453, 0.5093, 0.6363, 0.4308, 0.6173, 0.6402, 0.6363, 0.6392,\n",
            "        0.6404], grad_fn=<ReshapeAliasBackward0>)\n",
            " -- OUTPUT -- \n",
            "tensor([0.6393, 0.5792, 0.6556, 0.6367, 0.6475, 0.6452, 0.6364, 0.6573, 0.3513,\n",
            "        0.5968], grad_fn=<ReshapeAliasBackward0>)\n",
            " -- OUTPUT -- \n",
            "tensor([0.6411, 0.6290, 0.6339, 0.6434, 0.6437, 0.6465, 0.5341, 0.6375, 0.6416,\n",
            "        0.6332], grad_fn=<ReshapeAliasBackward0>)\n",
            " -- OUTPUT -- \n",
            "tensor([0.6638, 0.6371, 0.6484, 0.6542, 0.6638, 0.6394, 0.6431, 0.6556, 0.6313,\n",
            "        0.3816], grad_fn=<ReshapeAliasBackward0>)\n",
            " -- OUTPUT -- \n",
            "tensor([0.6200, 0.6356, 0.5663, 0.6459, 0.6361, 0.6517, 0.6386, 0.6369, 0.6339,\n",
            "        0.6420], grad_fn=<ReshapeAliasBackward0>)\n",
            " -- OUTPUT -- \n",
            "tensor([0.6381, 0.3736, 0.6345, 0.6456, 0.4729, 0.5121, 0.6212, 0.6414, 0.6385,\n",
            "        0.6392], grad_fn=<ReshapeAliasBackward0>)\n",
            " -- OUTPUT -- \n",
            "tensor([0.6456, 0.6406, 0.6440, 0.6430, 0.6376, 0.4181, 0.6370, 0.6389, 0.5479,\n",
            "        0.6380], grad_fn=<ReshapeAliasBackward0>)\n",
            " -- OUTPUT -- \n",
            "tensor([0.6394, 0.6366, 0.6431, 0.3759, 0.5286, 0.6395, 0.5287, 0.6290, 0.6185,\n",
            "        0.6431], grad_fn=<ReshapeAliasBackward0>)\n",
            " -- OUTPUT -- \n",
            "tensor([0.6363, 0.5706, 0.6638, 0.4842, 0.6615, 0.6301, 0.6356, 0.6456, 0.6382,\n",
            "        0.6038], grad_fn=<ReshapeAliasBackward0>)\n",
            " -- OUTPUT -- \n",
            "tensor([0.6377, 0.6536, 0.5187, 0.6371, 0.6487, 0.6361, 0.6368, 0.6322, 0.6638,\n",
            "        0.6365], grad_fn=<ReshapeAliasBackward0>)\n",
            " -- OUTPUT -- \n",
            "tensor([0.6339, 0.6638, 0.6302, 0.6423, 0.6116, 0.6459, 0.0516, 0.6402, 0.6365,\n",
            "        0.6391], grad_fn=<ReshapeAliasBackward0>)\n",
            " -- OUTPUT -- \n",
            "tensor([0.5566, 0.6356, 0.4070, 0.5013, 0.6396, 0.6378, 0.6360, 0.6400, 0.6389,\n",
            "        0.6424], grad_fn=<ReshapeAliasBackward0>)\n",
            " -- OUTPUT -- \n",
            "tensor([0.6375, 0.6373, 0.6638, 0.6322, 0.6511, 0.6317, 0.5650, 0.6365, 0.6484,\n",
            "        0.6595], grad_fn=<ReshapeAliasBackward0>)\n",
            " -- OUTPUT -- \n",
            "tensor([0.5356, 0.6383, 0.6638, 0.6337, 0.6105, 0.5802, 0.6638, 0.6638, 0.6467,\n",
            "        0.6341], grad_fn=<ReshapeAliasBackward0>)\n",
            " -- OUTPUT -- \n",
            "tensor([0.6333, 0.4158, 0.6344, 0.6638, 0.6219, 0.6320, 0.6376, 0.6492, 0.6232,\n",
            "        0.6629], grad_fn=<ReshapeAliasBackward0>)\n",
            " -- OUTPUT -- \n",
            "tensor([0.6336, 0.6367, 0.6358, 0.5812, 0.6638, 0.6420, 0.6593, 0.0051, 0.6403,\n",
            "        0.6487], grad_fn=<ReshapeAliasBackward0>)\n",
            " -- OUTPUT -- \n",
            "tensor([0.6418, 0.6308, 0.5579, 0.5314, 0.6410, 0.6363, 0.6256, 0.6560, 0.6434,\n",
            "        0.6350], grad_fn=<ReshapeAliasBackward0>)\n",
            " -- OUTPUT -- \n",
            "tensor([0.6407, 0.6419, 0.6319, 0.6407, 0.6385, 0.6406, 0.6379, 0.3923, 0.6419,\n",
            "        0.6544], grad_fn=<ReshapeAliasBackward0>)\n",
            " -- OUTPUT -- \n",
            "tensor([0.6351, 0.3701, 0.6413, 0.6415, 0.6366, 0.6282, 0.6381, 0.6284, 0.5161,\n",
            "        0.6338], grad_fn=<ReshapeAliasBackward0>)\n",
            " -- OUTPUT -- \n",
            "tensor([0.6507, 0.6620, 0.6366, 0.6388, 0.6387, 0.6364, 0.6357, 0.6394, 0.6368,\n",
            "        0.6638], grad_fn=<ReshapeAliasBackward0>)\n",
            " -- OUTPUT -- \n",
            "tensor([0.6424, 0.6483, 0.6390, 0.6288, 0.3633, 0.6367, 0.4686, 0.6048, 0.6346,\n",
            "        0.5594], grad_fn=<ReshapeAliasBackward0>)\n",
            " -- OUTPUT -- \n",
            "tensor([0.5677, 0.6292, 0.6353, 0.6075, 0.6638, 0.6342, 0.6638, 0.6325, 0.4907,\n",
            "        0.6386], grad_fn=<ReshapeAliasBackward0>)\n",
            " -- OUTPUT -- \n",
            "tensor([0.6293, 0.6411, 0.6444, 0.5690, 0.5944, 0.6471, 0.6454, 0.6427,    nan,\n",
            "        0.6326], grad_fn=<ReshapeAliasBackward0>)\n"
          ]
        },
        {
          "ename": "RuntimeError",
          "evalue": "all elements of input should be between 0 and 1",
          "output_type": "error",
          "traceback": [
            "\u001b[1;31m---------------------------------------------------------------------------\u001b[0m",
            "\u001b[1;31mRuntimeError\u001b[0m                              Traceback (most recent call last)",
            "Cell \u001b[1;32mIn[12], line 18\u001b[0m\n\u001b[0;32m     14\u001b[0m \u001b[39mprint\u001b[39m(\u001b[39m\"\u001b[39m\u001b[39m -- OUTPUT -- \u001b[39m\u001b[39m\\n\u001b[39;00m\u001b[39m{}\u001b[39;00m\u001b[39m\"\u001b[39m\u001b[39m.\u001b[39mformat(output))\n\u001b[0;32m     15\u001b[0m \u001b[39m# print(\" -- TARGET -- \\n{}\".format(target))\u001b[39;00m\n\u001b[0;32m     16\u001b[0m \n\u001b[0;32m     17\u001b[0m \u001b[39m# Calculate loss\u001b[39;00m\n\u001b[1;32m---> 18\u001b[0m loss \u001b[39m=\u001b[39m loss_fn(output, target)\n\u001b[0;32m     20\u001b[0m \u001b[39m# Backward pass\u001b[39;00m\n\u001b[0;32m     21\u001b[0m loss\u001b[39m.\u001b[39mbackward()\n",
            "File \u001b[1;32mc:\\Python39\\lib\\site-packages\\torch\\nn\\modules\\module.py:1194\u001b[0m, in \u001b[0;36mModule._call_impl\u001b[1;34m(self, *input, **kwargs)\u001b[0m\n\u001b[0;32m   1190\u001b[0m \u001b[39m# If we don't have any hooks, we want to skip the rest of the logic in\u001b[39;00m\n\u001b[0;32m   1191\u001b[0m \u001b[39m# this function, and just call forward.\u001b[39;00m\n\u001b[0;32m   1192\u001b[0m \u001b[39mif\u001b[39;00m \u001b[39mnot\u001b[39;00m (\u001b[39mself\u001b[39m\u001b[39m.\u001b[39m_backward_hooks \u001b[39mor\u001b[39;00m \u001b[39mself\u001b[39m\u001b[39m.\u001b[39m_forward_hooks \u001b[39mor\u001b[39;00m \u001b[39mself\u001b[39m\u001b[39m.\u001b[39m_forward_pre_hooks \u001b[39mor\u001b[39;00m _global_backward_hooks\n\u001b[0;32m   1193\u001b[0m         \u001b[39mor\u001b[39;00m _global_forward_hooks \u001b[39mor\u001b[39;00m _global_forward_pre_hooks):\n\u001b[1;32m-> 1194\u001b[0m     \u001b[39mreturn\u001b[39;00m forward_call(\u001b[39m*\u001b[39m\u001b[39minput\u001b[39m, \u001b[39m*\u001b[39m\u001b[39m*\u001b[39mkwargs)\n\u001b[0;32m   1195\u001b[0m \u001b[39m# Do not call functions when jit is used\u001b[39;00m\n\u001b[0;32m   1196\u001b[0m full_backward_hooks, non_full_backward_hooks \u001b[39m=\u001b[39m [], []\n",
            "File \u001b[1;32mc:\\Python39\\lib\\site-packages\\torch\\nn\\modules\\loss.py:619\u001b[0m, in \u001b[0;36mBCELoss.forward\u001b[1;34m(self, input, target)\u001b[0m\n\u001b[0;32m    618\u001b[0m \u001b[39mdef\u001b[39;00m \u001b[39mforward\u001b[39m(\u001b[39mself\u001b[39m, \u001b[39minput\u001b[39m: Tensor, target: Tensor) \u001b[39m-\u001b[39m\u001b[39m>\u001b[39m Tensor:\n\u001b[1;32m--> 619\u001b[0m     \u001b[39mreturn\u001b[39;00m F\u001b[39m.\u001b[39;49mbinary_cross_entropy(\u001b[39minput\u001b[39;49m, target, weight\u001b[39m=\u001b[39;49m\u001b[39mself\u001b[39;49m\u001b[39m.\u001b[39;49mweight, reduction\u001b[39m=\u001b[39;49m\u001b[39mself\u001b[39;49m\u001b[39m.\u001b[39;49mreduction)\n",
            "File \u001b[1;32mc:\\Python39\\lib\\site-packages\\torch\\nn\\functional.py:3095\u001b[0m, in \u001b[0;36mbinary_cross_entropy\u001b[1;34m(input, target, weight, size_average, reduce, reduction)\u001b[0m\n\u001b[0;32m   3092\u001b[0m     new_size \u001b[39m=\u001b[39m _infer_size(target\u001b[39m.\u001b[39msize(), weight\u001b[39m.\u001b[39msize())\n\u001b[0;32m   3093\u001b[0m     weight \u001b[39m=\u001b[39m weight\u001b[39m.\u001b[39mexpand(new_size)\n\u001b[1;32m-> 3095\u001b[0m \u001b[39mreturn\u001b[39;00m torch\u001b[39m.\u001b[39;49m_C\u001b[39m.\u001b[39;49m_nn\u001b[39m.\u001b[39;49mbinary_cross_entropy(\u001b[39minput\u001b[39;49m, target, weight, reduction_enum)\n",
            "\u001b[1;31mRuntimeError\u001b[0m: all elements of input should be between 0 and 1"
          ]
        }
      ],
      "source": [
        "model.train()\n",
        "\n",
        "for epoch in range(20):\n",
        "    for batch_idx, (data, target) in enumerate(train_loader):\n",
        "        # print(\"data \\n{}\".format(data))\n",
        "        # Erase accumulated gradients\n",
        "\n",
        "        optimizer.zero_grad()\n",
        "\n",
        "        # Forward pass\n",
        "        output = model(data)\n",
        "        #print(\" -- OPUTPUT -- \\n{}\".format(output))\n",
        "        output = output.flatten()\n",
        "        print(\" -- OUTPUT -- \\n{}\".format(output))\n",
        "        # print(\" -- TARGET -- \\n{}\".format(target))\n",
        "\n",
        "        # Calculate loss\n",
        "        loss = loss_fn(output, target)\n",
        "\n",
        "        # Backward pass\n",
        "        loss.backward()\n",
        "        \n",
        "        # torch.nn.utils.clip_grad_norm_(model.parameters(), 0.01)\n",
        "        torch.nn.utils.clip_grad_value_(model.parameters(), 10000)\n",
        "\n",
        "        # Weight update\n",
        "        optimizer.step()\n",
        "\n",
        "    # Track loss each epoch\n",
        "    print('Train Epoch: %d  Loss: %.4f' % (epoch + 1,  loss.item()))"
      ]
    },
    {
      "cell_type": "markdown",
      "metadata": {
        "id": "G4p-4iZDnQvN"
      },
      "source": [
        "## Testing\n",
        "We can perform forward passes through the network without saving gradients."
      ]
    },
    {
      "cell_type": "code",
      "execution_count": null,
      "metadata": {
        "colab": {
          "base_uri": "https://localhost:8080/"
        },
        "id": "jGzLHGFfnQvN",
        "outputId": "70c957a0-e909-4b4b-c0e0-02d70f65b51b"
      },
      "outputs": [
        {
          "ename": "ValueError",
          "evalue": "Target size (torch.Size([32])) must be the same as input size (torch.Size([32, 1]))",
          "output_type": "error",
          "traceback": [
            "\u001b[1;31m---------------------------------------------------------------------------\u001b[0m",
            "\u001b[1;31mValueError\u001b[0m                                Traceback (most recent call last)",
            "Cell \u001b[1;32mIn[14], line 11\u001b[0m\n\u001b[0;32m      9\u001b[0m \u001b[39mfor\u001b[39;00m data, target \u001b[39min\u001b[39;00m test_loader:\n\u001b[0;32m     10\u001b[0m     output \u001b[39m=\u001b[39m model(data)\n\u001b[1;32m---> 11\u001b[0m     test_loss \u001b[39m+\u001b[39m\u001b[39m=\u001b[39m loss_fn(output, target)\u001b[39m.\u001b[39mitem()  \u001b[39m# Sum up batch loss\u001b[39;00m\n\u001b[0;32m     12\u001b[0m     pred \u001b[39m=\u001b[39m output\u001b[39m.\u001b[39margmax(dim\u001b[39m=\u001b[39m\u001b[39m1\u001b[39m, keepdim\u001b[39m=\u001b[39m\u001b[39mTrue\u001b[39;00m)  \u001b[39m# Get the index of the max class score\u001b[39;00m\n\u001b[0;32m     13\u001b[0m     correct \u001b[39m+\u001b[39m\u001b[39m=\u001b[39m pred\u001b[39m.\u001b[39meq(target\u001b[39m.\u001b[39mview_as(pred))\u001b[39m.\u001b[39msum()\u001b[39m.\u001b[39mitem()\n",
            "File \u001b[1;32mc:\\Python39\\lib\\site-packages\\torch\\nn\\modules\\module.py:1194\u001b[0m, in \u001b[0;36mModule._call_impl\u001b[1;34m(self, *input, **kwargs)\u001b[0m\n\u001b[0;32m   1190\u001b[0m \u001b[39m# If we don't have any hooks, we want to skip the rest of the logic in\u001b[39;00m\n\u001b[0;32m   1191\u001b[0m \u001b[39m# this function, and just call forward.\u001b[39;00m\n\u001b[0;32m   1192\u001b[0m \u001b[39mif\u001b[39;00m \u001b[39mnot\u001b[39;00m (\u001b[39mself\u001b[39m\u001b[39m.\u001b[39m_backward_hooks \u001b[39mor\u001b[39;00m \u001b[39mself\u001b[39m\u001b[39m.\u001b[39m_forward_hooks \u001b[39mor\u001b[39;00m \u001b[39mself\u001b[39m\u001b[39m.\u001b[39m_forward_pre_hooks \u001b[39mor\u001b[39;00m _global_backward_hooks\n\u001b[0;32m   1193\u001b[0m         \u001b[39mor\u001b[39;00m _global_forward_hooks \u001b[39mor\u001b[39;00m _global_forward_pre_hooks):\n\u001b[1;32m-> 1194\u001b[0m     \u001b[39mreturn\u001b[39;00m forward_call(\u001b[39m*\u001b[39m\u001b[39minput\u001b[39m, \u001b[39m*\u001b[39m\u001b[39m*\u001b[39mkwargs)\n\u001b[0;32m   1195\u001b[0m \u001b[39m# Do not call functions when jit is used\u001b[39;00m\n\u001b[0;32m   1196\u001b[0m full_backward_hooks, non_full_backward_hooks \u001b[39m=\u001b[39m [], []\n",
            "File \u001b[1;32mc:\\Python39\\lib\\site-packages\\torch\\nn\\modules\\loss.py:720\u001b[0m, in \u001b[0;36mBCEWithLogitsLoss.forward\u001b[1;34m(self, input, target)\u001b[0m\n\u001b[0;32m    719\u001b[0m \u001b[39mdef\u001b[39;00m \u001b[39mforward\u001b[39m(\u001b[39mself\u001b[39m, \u001b[39minput\u001b[39m: Tensor, target: Tensor) \u001b[39m-\u001b[39m\u001b[39m>\u001b[39m Tensor:\n\u001b[1;32m--> 720\u001b[0m     \u001b[39mreturn\u001b[39;00m F\u001b[39m.\u001b[39;49mbinary_cross_entropy_with_logits(\u001b[39minput\u001b[39;49m, target,\n\u001b[0;32m    721\u001b[0m                                               \u001b[39mself\u001b[39;49m\u001b[39m.\u001b[39;49mweight,\n\u001b[0;32m    722\u001b[0m                                               pos_weight\u001b[39m=\u001b[39;49m\u001b[39mself\u001b[39;49m\u001b[39m.\u001b[39;49mpos_weight,\n\u001b[0;32m    723\u001b[0m                                               reduction\u001b[39m=\u001b[39;49m\u001b[39mself\u001b[39;49m\u001b[39m.\u001b[39;49mreduction)\n",
            "File \u001b[1;32mc:\\Python39\\lib\\site-packages\\torch\\nn\\functional.py:3160\u001b[0m, in \u001b[0;36mbinary_cross_entropy_with_logits\u001b[1;34m(input, target, weight, size_average, reduce, reduction, pos_weight)\u001b[0m\n\u001b[0;32m   3157\u001b[0m     reduction_enum \u001b[39m=\u001b[39m _Reduction\u001b[39m.\u001b[39mget_enum(reduction)\n\u001b[0;32m   3159\u001b[0m \u001b[39mif\u001b[39;00m \u001b[39mnot\u001b[39;00m (target\u001b[39m.\u001b[39msize() \u001b[39m==\u001b[39m \u001b[39minput\u001b[39m\u001b[39m.\u001b[39msize()):\n\u001b[1;32m-> 3160\u001b[0m     \u001b[39mraise\u001b[39;00m \u001b[39mValueError\u001b[39;00m(\u001b[39m\"\u001b[39m\u001b[39mTarget size (\u001b[39m\u001b[39m{}\u001b[39;00m\u001b[39m) must be the same as input size (\u001b[39m\u001b[39m{}\u001b[39;00m\u001b[39m)\u001b[39m\u001b[39m\"\u001b[39m\u001b[39m.\u001b[39mformat(target\u001b[39m.\u001b[39msize(), \u001b[39minput\u001b[39m\u001b[39m.\u001b[39msize()))\n\u001b[0;32m   3162\u001b[0m \u001b[39mreturn\u001b[39;00m torch\u001b[39m.\u001b[39mbinary_cross_entropy_with_logits(\u001b[39minput\u001b[39m, target, weight, pos_weight, reduction_enum)\n",
            "\u001b[1;31mValueError\u001b[0m: Target size (torch.Size([32])) must be the same as input size (torch.Size([32, 1]))"
          ]
        }
      ],
      "source": [
        "# Putting layers like Dropout into evaluation mode\n",
        "model.eval()\n",
        "\n",
        "test_loss = 0\n",
        "correct = 0\n",
        "\n",
        "# Turning off automatic differentiation\n",
        "with torch.no_grad():\n",
        "    for data, target in test_loader:\n",
        "        output = model(data)\n",
        "        test_loss += loss_fn(output, target).item()  # Sum up batch loss\n",
        "        pred = output.argmax(dim=1, keepdim=True)  # Get the index of the max class score\n",
        "        correct += pred.eq(target.view_as(pred)).sum().item()\n",
        "\n",
        "test_loss /= len(test_loader.dataset)\n",
        "\n",
        "print('Test set: Average loss: %.4f, Accuracy: %d/%d (%.4f)' %\n",
        "      (test_loss, correct, len(test_loader.dataset),\n",
        "       100. * correct / len(test_loader.dataset)))"
      ]
    }
  ],
  "metadata": {
    "accelerator": "GPU",
    "colab": {
      "provenance": []
    },
    "gpuClass": "standard",
    "kernelspec": {
      "display_name": "Python 3",
      "language": "python",
      "name": "python3"
    },
    "language_info": {
      "codemirror_mode": {
        "name": "ipython",
        "version": 3
      },
      "file_extension": ".py",
      "mimetype": "text/x-python",
      "name": "python",
      "nbconvert_exporter": "python",
      "pygments_lexer": "ipython3",
      "version": "3.9.5"
    },
    "vscode": {
      "interpreter": {
        "hash": "81794d4967e6c3204c66dcd87b604927b115b27c00565d3d43f05ba2f3a2cb0d"
      }
    }
  },
  "nbformat": 4,
  "nbformat_minor": 0
}
