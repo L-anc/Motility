{
  "cells": [
    {
      "cell_type": "markdown",
      "metadata": {
        "id": "6WZsJE6InQvH"
      },
      "source": [
        "# Problem 3 Sample Code\n",
        "\n",
        "This sample code is meant as a guide on how to use PyTorch and how to use the relevant model layers. This not a guide on how to design a network and the network in this example is intentionally designed to have poor performace."
      ]
    },
    {
      "cell_type": "code",
      "execution_count": 134,
      "metadata": {
        "id": "pRd994oKnQvI"
      },
      "outputs": [],
      "source": [
        "import numpy as np\n",
        "import matplotlib.pyplot as plt\n",
        "%matplotlib inline\n",
        "\n",
        "import torch\n",
        "import torch.nn as nn\n",
        "import torch.nn.functional as F\n",
        "import pandas as pd\n",
        "from torch.utils.data import TensorDataset, Dataset, DataLoader"
      ]
    },
    {
      "cell_type": "code",
      "execution_count": 135,
      "metadata": {
        "id": "T8ui5hmKnQvJ"
      },
      "outputs": [],
      "source": [
        "df = pd.read_csv('out.csv')\n",
        "df.drop(['uid'], axis=1, inplace=True)\n",
        "\n",
        "train = df.iloc[0:15000 ]\n",
        "test = df.iloc[15000:16080]\n",
        "\n",
        "x_train = torch.tensor(train[['chi','lin_reg','lin_reg_chi','stddev_step_speed']].copy().to_numpy(), dtype=torch.float32)\n",
        "y_train = torch.tensor(train['label'].copy().to_numpy(), dtype=torch.float32)\n",
        "\n",
        "x_test = torch.tensor(train[['chi','lin_reg','lin_reg_chi','stddev_step_speed']].copy().to_numpy(), dtype=torch.float32)\n",
        "y_test = torch.tensor(train['label'].copy().to_numpy(), dtype=torch.float32)\n",
        "\n",
        "train_dataset = TensorDataset(x_train, y_train)\n",
        "test_dataset = TensorDataset(x_test, y_test)"
      ]
    },
    {
      "cell_type": "markdown",
      "metadata": {
        "id": "_kAG49-4nQvK"
      },
      "source": [
        "We can convert images to numpy arrays and plot them with matplotlib:"
      ]
    },
    {
      "cell_type": "markdown",
      "metadata": {
        "id": "x0VSOS2TnQvL"
      },
      "source": [
        "## Network Definition\n",
        "Let's instantiate a model and take a look at the layers."
      ]
    },
    {
      "cell_type": "code",
      "execution_count": 136,
      "metadata": {
        "colab": {
          "base_uri": "https://localhost:8080/"
        },
        "id": "NT73uPcbnQvL",
        "outputId": "9af8e298-58c2-4110-c1c4-f7abd30472c9",
        "scrolled": false
      },
      "outputs": [
        {
          "name": "stdout",
          "output_type": "stream",
          "text": [
            "Sequential(\n",
            "  (0): Flatten(start_dim=1, end_dim=-1)\n",
            "  (1): Linear(in_features=4, out_features=3, bias=True)\n",
            "  (2): Sigmoid()\n",
            "  (3): Linear(in_features=3, out_features=1, bias=True)\n",
            "  (4): Softmax(dim=1)\n",
            ")\n"
          ]
        }
      ],
      "source": [
        "model = nn.Sequential(\n",
        "    # In problem 2, we don't use the 2D structure of an image at all. Our network\n",
        "    # takes in a flat vector of the pixel values as input.\n",
        "\n",
        "    nn.Flatten(),\n",
        "    nn.Linear(4, 3),\n",
        "    nn.Sigmoid(),\n",
        "    nn.Linear(3, 1),\n",
        "    nn.Softmax(dim=1)\n",
        ")\n",
        "print(model)"
      ]
    },
    {
      "cell_type": "markdown",
      "metadata": {
        "id": "vkzr6hvjnQvM"
      },
      "source": [
        "## Training\n",
        "We also choose an optimizer and a loss function."
      ]
    },
    {
      "cell_type": "code",
      "execution_count": 137,
      "metadata": {
        "id": "PofNcGjonQvM"
      },
      "outputs": [],
      "source": [
        "optimizer = torch.optim.Adam(model.parameters(), lr=5e-5)\n",
        "loss_fn = nn.BCEWithLogitsLoss()"
      ]
    },
    {
      "cell_type": "markdown",
      "metadata": {
        "id": "YLaXzBQjnQvM"
      },
      "source": [
        "We could write our training procedure manually and directly index the `Dataset` objects, but the `DataLoader` object conveniently creates an iterable for automatically creating random minibatches:"
      ]
    },
    {
      "cell_type": "code",
      "execution_count": 138,
      "metadata": {
        "colab": {
          "base_uri": "https://localhost:8080/"
        },
        "id": "qbACTaKMnQvM",
        "outputId": "efcdb3a9-5f9b-44cd-ab94-2cdc2698c12c"
      },
      "outputs": [
        {
          "data": {
            "text/plain": [
              "<torch._C.Generator at 0x1d6cbe36690>"
            ]
          },
          "execution_count": 138,
          "metadata": {},
          "output_type": "execute_result"
        }
      ],
      "source": [
        "train_loader = DataLoader(train_dataset, batch_size=40, shuffle=True)\n",
        "test_loader = DataLoader(test_dataset, batch_size=40, shuffle=True) \n",
        "\n",
        "torch.manual_seed(15552494823729223621)"
      ]
    },
    {
      "cell_type": "markdown",
      "metadata": {
        "id": "6EJRa6ndnQvM"
      },
      "source": [
        "We now write our backpropagation loop, training for 10 epochs."
      ]
    },
    {
      "cell_type": "code",
      "execution_count": 139,
      "metadata": {
        "colab": {
          "base_uri": "https://localhost:8080/"
        },
        "id": "8O3-pMlInQvM",
        "outputId": "26e030ff-ea74-4177-e94e-7437abee7432"
      },
      "outputs": [
        {
          "name": "stdout",
          "output_type": "stream",
          "text": [
            "Train Epoch: 1  Loss: nan\n",
            "Train Epoch: 2  Loss: nan\n",
            "Train Epoch: 3  Loss: nan\n",
            "Train Epoch: 4  Loss: nan\n",
            "Train Epoch: 5  Loss: nan\n",
            "Train Epoch: 6  Loss: nan\n",
            "Train Epoch: 7  Loss: nan\n",
            "Train Epoch: 8  Loss: nan\n",
            "Train Epoch: 9  Loss: nan\n",
            "Train Epoch: 10  Loss: nan\n",
            "Train Epoch: 11  Loss: nan\n",
            "Train Epoch: 12  Loss: nan\n",
            "Train Epoch: 13  Loss: nan\n",
            "Train Epoch: 14  Loss: nan\n",
            "Train Epoch: 15  Loss: nan\n",
            "Train Epoch: 16  Loss: nan\n"
          ]
        }
      ],
      "source": [
        "# Some layers, such as Dropout, behave differently during training\n",
        "model.train()\n",
        "\n",
        "for epoch in range(20):\n",
        "    for batch_idx, (data, target) in enumerate(train_loader):\n",
        "        # Erase accumulated gradients\n",
        "        optimizer.zero_grad()\n",
        "\n",
        "        # Forward pass\n",
        "        output = model(data)\n",
        "        \n",
        "        target = target.unsqueeze(1)\n",
        "        # Calculate loss\n",
        "        loss = loss_fn(output, target)\n",
        "\n",
        "        # Backward pass\n",
        "        loss.backward()\n",
        "        \n",
        "        # Weight update\n",
        "        optimizer.step()\n",
        "\n",
        "\n",
        "    # Track loss each epoch\n",
        "    print('Train Epoch: %d  Loss: %.4f' % (epoch + 1,  loss.item()))"
      ]
    },
    {
      "cell_type": "markdown",
      "metadata": {
        "id": "G4p-4iZDnQvN"
      },
      "source": [
        "## Testing\n",
        "We can perform forward passes through the network without saving gradients."
      ]
    },
    {
      "cell_type": "code",
      "execution_count": null,
      "metadata": {
        "colab": {
          "base_uri": "https://localhost:8080/"
        },
        "id": "jGzLHGFfnQvN",
        "outputId": "70c957a0-e909-4b4b-c0e0-02d70f65b51b"
      },
      "outputs": [
        {
          "name": "stdout",
          "output_type": "stream",
          "text": [
            "Test set: Average loss: nan, Accuracy: 7619/15000 (50.7933)\n"
          ]
        }
      ],
      "source": [
        "# Putting layers like Dropout into evaluation mode\n",
        "model.eval()\n",
        "\n",
        "test_loss = 0\n",
        "correct = 0\n",
        "\n",
        "# Turning off automatic differentiation\n",
        "with torch.no_grad():\n",
        "    for data, target in test_loader:\n",
        "        output = model(data)\n",
        "        target = target.unsqueeze(1)\n",
        "        test_loss += loss_fn(output, target).item()  # Sum up batch loss\n",
        "        pred = output.argmax(dim=1, keepdim=True)  # Get the index of the max class score\n",
        "        correct += pred.eq(target.view_as(pred)).sum().item()\n",
        "\n",
        "test_loss /= len(test_loader.dataset)\n",
        "\n",
        "print('Test set: Average loss: %.4f, Accuracy: %d/%d (%.4f)' %\n",
        "      (test_loss, correct, len(test_loader.dataset),\n",
        "       100. * correct / len(test_loader.dataset)))"
      ]
    }
  ],
  "metadata": {
    "accelerator": "GPU",
    "colab": {
      "provenance": []
    },
    "gpuClass": "standard",
    "kernelspec": {
      "display_name": "Python 3",
      "language": "python",
      "name": "python3"
    },
    "language_info": {
      "codemirror_mode": {
        "name": "ipython",
        "version": 3
      },
      "file_extension": ".py",
      "mimetype": "text/x-python",
      "name": "python",
      "nbconvert_exporter": "python",
      "pygments_lexer": "ipython3",
      "version": "3.9.5"
    },
    "vscode": {
      "interpreter": {
        "hash": "81794d4967e6c3204c66dcd87b604927b115b27c00565d3d43f05ba2f3a2cb0d"
      }
    }
  },
  "nbformat": 4,
  "nbformat_minor": 0
}
