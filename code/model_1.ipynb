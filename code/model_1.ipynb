{
  "cells": [
    {
      "cell_type": "markdown",
      "metadata": {
        "id": "6WZsJE6InQvH"
      },
      "source": [
        "# Problem 3 Sample Code\n",
        "\n",
        "This sample code is meant as a guide on how to use PyTorch and how to use the relevant model layers. This not a guide on how to design a network and the network in this example is intentionally designed to have poor performace."
      ]
    },
    {
      "cell_type": "code",
      "execution_count": 74,
      "metadata": {
        "id": "pRd994oKnQvI"
      },
      "outputs": [],
      "source": [
        "import numpy as np\n",
        "import matplotlib.pyplot as plt\n",
        "%matplotlib inline\n",
        "\n",
        "import torch\n",
        "import torch.nn as nn\n",
        "import torch.nn.functional as F\n",
        "import pandas as pd\n",
        "from torch.utils.data import TensorDataset, Dataset, DataLoader\n",
        "import seaborn as sns\n",
        "from sklearn.model_selection import train_test_split"
      ]
    },
    {
      "cell_type": "code",
      "execution_count": 75,
      "metadata": {
        "id": "T8ui5hmKnQvJ"
      },
      "outputs": [
        {
          "name": "stdout",
          "output_type": "stream",
          "text": [
            "===dataframe=== \n",
            "        label       chi   lin_reg  lin_reg_chi  stddev_step_speed\n",
            "0          0  0.000920  0.992533     0.000065           0.154567\n",
            "1          0  0.000228  0.973844     0.000128           0.154105\n",
            "2          0  0.000256  0.894242     0.000435           0.154033\n",
            "3          0  0.000088  0.967026     0.000379           0.154711\n",
            "4          0  0.006075  0.000296     0.000100           0.153187\n",
            "...      ...       ...       ...          ...                ...\n",
            "16075      0  0.005071  0.999245     0.000057           0.160588\n",
            "16076      0  0.014942  0.999707     0.000089           0.232843\n",
            "16077      0  0.024277  0.998892     0.000236           0.211919\n",
            "16078      0  0.007277  0.998953     0.000045           0.145301\n",
            "16079      0  0.006620  0.999056     0.000480           0.267385\n",
            "\n",
            "[16080 rows x 5 columns]\n",
            " - pre X \n",
            " [[9.20302016e-04 9.92532952e-01 6.50811419e-05 1.54567320e-01]\n",
            " [2.27743852e-04 9.73843667e-01 1.27606689e-04 1.54105100e-01]\n",
            " [2.55930344e-04 8.94242185e-01 4.34696470e-04 1.54032652e-01]\n",
            " ...\n",
            " [2.42765681e-02 9.98891887e-01 2.36119794e-04 2.11919090e-01]\n",
            " [7.27707774e-03 9.98952523e-01 4.47999679e-05 1.45301480e-01]\n",
            " [6.62037551e-03 9.99056322e-01 4.79571856e-04 2.67384806e-01]] - \n",
            " pre TRAIN X \n",
            " [[1.88775068e-03 8.24991982e-01 4.89842225e-02 1.89137409e-01]\n",
            " [3.98623017e-07 9.99373722e-01 3.27858682e-04 2.65053281e-01]\n",
            " [5.29365965e-03 9.08057588e-01 4.32857046e-01 4.61965772e-01]\n",
            " ...\n",
            " [1.89816737e-04 1.63823859e-01 2.71824669e-01 2.40860722e-01]\n",
            " [2.49619696e-03 9.99102850e-01 7.04468613e-05 1.64951304e-01]\n",
            " [2.43450786e-03 9.99396181e-01 1.52951045e-04 2.22060531e-01]]\n",
            "TENSOR  X \n",
            " tensor([[1.8878e-03, 8.2499e-01, 4.8984e-02, 1.8914e-01],\n",
            "        [3.9862e-07, 9.9937e-01, 3.2786e-04, 2.6505e-01],\n",
            "        [5.2937e-03, 9.0806e-01, 4.3286e-01, 4.6197e-01],\n",
            "        ...,\n",
            "        [1.8982e-04, 1.6382e-01, 2.7182e-01, 2.4086e-01],\n",
            "        [2.4962e-03, 9.9910e-01, 7.0447e-05, 1.6495e-01],\n",
            "        [2.4345e-03, 9.9940e-01, 1.5295e-04, 2.2206e-01]])\n",
            "x \n",
            "       label       chi   lin_reg  lin_reg_chi  stddev_step_speed\n",
            "0          0  0.000920  0.992533     0.000065           0.154567\n",
            "1          0  0.000228  0.973844     0.000128           0.154105\n",
            "2          0  0.000256  0.894242     0.000435           0.154033\n",
            "3          0  0.000088  0.967026     0.000379           0.154711\n",
            "4          0  0.006075  0.000296     0.000100           0.153187\n",
            "...      ...       ...       ...          ...                ...\n",
            "16075      0  0.005071  0.999245     0.000057           0.160588\n",
            "16076      0  0.014942  0.999707     0.000089           0.232843\n",
            "16077      0  0.024277  0.998892     0.000236           0.211919\n",
            "16078      0  0.007277  0.998953     0.000045           0.145301\n",
            "16079      0  0.006620  0.999056     0.000480           0.267385\n",
            "\n",
            "[16080 rows x 5 columns]\n",
            "y \n",
            "       label       chi   lin_reg  lin_reg_chi  stddev_step_speed\n",
            "0          0  0.000920  0.992533     0.000065           0.154567\n",
            "1          0  0.000228  0.973844     0.000128           0.154105\n",
            "2          0  0.000256  0.894242     0.000435           0.154033\n",
            "3          0  0.000088  0.967026     0.000379           0.154711\n",
            "4          0  0.006075  0.000296     0.000100           0.153187\n",
            "...      ...       ...       ...          ...                ...\n",
            "16075      0  0.005071  0.999245     0.000057           0.160588\n",
            "16076      0  0.014942  0.999707     0.000089           0.232843\n",
            "16077      0  0.024277  0.998892     0.000236           0.211919\n",
            "16078      0  0.007277  0.998953     0.000045           0.145301\n",
            "16079      0  0.006620  0.999056     0.000480           0.267385\n",
            "\n",
            "[16080 rows x 5 columns]\n"
          ]
        }
      ],
      "source": [
        "df = pd.read_csv('out.csv')\n",
        "df = df.drop(columns= \"uid\")\n",
        "print(\"===dataframe=== \\n {}\".format(df))\n",
        "# print (\"df after drop \\n{}\".format(df))\n",
        "# df['split'] = np.random.randn(df.shape[0], 1)\n",
        "# msk = np.random.rand(len(df)) <= 0.7\n",
        "\n",
        "# train = df[msk]\n",
        "# train.drop(['split'], axis=1, inplace=True)\n",
        "# test = df[~msk]\n",
        "# test.drop(['split'], axis=1, inplace=True)\n",
        "X = np.array(df.drop(columns=[\"label\"]))\n",
        "print(\" - pre X \\n {} - \".format(X))\n",
        "\n",
        "# def normalize(x):\n",
        "#     x = np.asarray(x)\n",
        "#     return (x - x.min()) / (np.ptp(x))\n",
        "# X_normed = []\n",
        "# for i in range(0, len(X)):\n",
        "#     X_normed.append(X[i])\n",
        "# # X = (X - X.mean())/(X.std())\n",
        "# print(\" - NORMALIZED  X \\n {} - \".format(X_normed))\n",
        "\n",
        "y = np.array(df[\"label\"])\n",
        "\n",
        "train_X, test_X, train_y, test_y = train_test_split(X, y, test_size=0.2)\n",
        "print(\" pre TRAIN X \\n {}\".format(train_X))\n",
        "\n",
        "train_X = torch.tensor(train_X, dtype=torch.float32)\n",
        "print(\"TENSOR  X \\n {}\".format(train_X))\n",
        "train_y = torch.tensor(train_y, dtype=torch.float32)\n",
        "# 80/20 x values as floats\n",
        "test_X = torch.tensor(test_X, dtype=torch.float32)\n",
        "test_y = torch.tensor(test_y, dtype=torch.float32)\n",
        "\n",
        "train_dataset = TensorDataset(train_X, train_y)\n",
        "test_dataset = TensorDataset(test_X, test_y)\n",
        "\n",
        "train_loader = torch.utils.data.DataLoader(train_dataset, batch_size=32, shuffle=True)\n",
        "test_loader = torch.utils.data.DataLoader(test_dataset, batch_size=32, shuffle=True) \n",
        "\n",
        "print (\"x \\n{}\".format(df))\n",
        "print (\"y \\n{}\".format(df))\n",
        "\n",
        "# x_train = torch.tensor(train[['chi','lin_reg','lin_reg_chi','stddev_step_speed']].copy().to_numpy(), dtype=torch.float32)\n",
        "# y_train = torch.tensor(train['label'].copy().to_numpy(), dtype=torch.long)\n",
        "# x_test = torch.tensor(train[['chi','lin_reg','lin_reg_chi','stddev_step_speed']].copy().to_numpy(), dtype=torch.float32)\n",
        "# y_test = torch.tensor(train['label'].copy().to_numpy(), dtype=torch.long)\n",
        "# train_dataset = TensorDataset(x_train, y_train)\n",
        "# test_dataset = TensorDataset(x_test, y_test)"
      ]
    },
    {
      "cell_type": "markdown",
      "metadata": {
        "id": "_kAG49-4nQvK"
      },
      "source": [
        "We can convert images to numpy arrays and plot them with matplotlib:"
      ]
    },
    {
      "cell_type": "markdown",
      "metadata": {
        "id": "x0VSOS2TnQvL"
      },
      "source": [
        "## Network Definition\n",
        "Let's instantiate a model and take a look at the layers."
      ]
    },
    {
      "cell_type": "code",
      "execution_count": 107,
      "metadata": {
        "colab": {
          "base_uri": "https://localhost:8080/"
        },
        "id": "NT73uPcbnQvL",
        "outputId": "9af8e298-58c2-4110-c1c4-f7abd30472c9",
        "scrolled": false
      },
      "outputs": [
        {
          "data": {
            "text/plain": [
              "<torch._C.Generator at 0x28f1a80e7d0>"
            ]
          },
          "execution_count": 107,
          "metadata": {},
          "output_type": "execute_result"
        }
      ],
      "source": [
        "model = nn.Sequential(\n",
        "    nn.Linear(4, 10),\n",
        "    nn.Sigmoid(),\n",
        "    nn.Linear(10, 5),\n",
        "    nn.Sigmoid(),\n",
        "    nn.Linear(5, 1),\n",
        "    nn.Softmax(dim = 1)\n",
        ")\n",
        "optimizer = torch.optim.Adam(model.parameters(), lr=1e-3)\n",
        "loss_fn = nn.BCELoss()\n",
        "# loss_fn = nn.CrossEntropyLoss()\n",
        "torch.manual_seed(15552494823729223621)"
      ]
    },
    {
      "cell_type": "markdown",
      "metadata": {
        "id": "vkzr6hvjnQvM"
      },
      "source": [
        "## Training\n",
        "We also choose an optimizer and a loss function."
      ]
    },
    {
      "cell_type": "markdown",
      "metadata": {
        "id": "YLaXzBQjnQvM"
      },
      "source": [
        "We could write our training procedure manually and directly index the `Dataset` objects, but the `DataLoader` object conveniently creates an iterable for automatically creating random minibatches:"
      ]
    },
    {
      "cell_type": "markdown",
      "metadata": {
        "id": "6EJRa6ndnQvM"
      },
      "source": [
        "We now write our backpropagation loop, training for 10 epochs."
      ]
    },
    {
      "cell_type": "code",
      "execution_count": 108,
      "metadata": {
        "colab": {
          "base_uri": "https://localhost:8080/"
        },
        "id": "8O3-pMlInQvM",
        "outputId": "26e030ff-ea74-4177-e94e-7437abee7432"
      },
      "outputs": [
        {
          "name": "stdout",
          "output_type": "stream",
          "text": [
            " -- OPUTPUT -- \n",
            "tensor([1., 1., 1., 1., 1., 1., 1., 1., 1., 1., 1., 1., 1., 1., 1., 1., 1., 1.,\n",
            "        1., 1., 1., 1., 1., 1., 1., 1., 1., 1., 1., 1., 1., 1.],\n",
            "       grad_fn=<ReshapeAliasBackward0>)\n",
            " -- OPUTPUT -- \n",
            "tensor([1., 1., 1., 1., 1., 1., 1., 1., 1., 1., 1., 1., 1., 1., 1., 1., 1., 1.,\n",
            "        1., 1., 1., 1., 1., 1., 1., 1., 1., 1., 1., 1., 1., 1.],\n",
            "       grad_fn=<ReshapeAliasBackward0>)\n",
            " -- OPUTPUT -- \n",
            "tensor([1., 1., 1., 1., 1., 1., 1., 1., 1., 1., 1., 1., 1., 1., 1., 1., 1., 1.,\n",
            "        1., 1., 1., 1., 1., 1., 1., 1., 1., 1., 1., 1., 1., 1.],\n",
            "       grad_fn=<ReshapeAliasBackward0>)\n",
            " -- OPUTPUT -- \n",
            "tensor([1., 1., 1., 1., 1., 1., 1., 1., 1., 1., 1., 1., 1., 1., 1., 1., 1., 1.,\n",
            "        1., 1., 1., 1., 1., 1., 1., 1., 1., 1., 1., 1., 1., 1.],\n",
            "       grad_fn=<ReshapeAliasBackward0>)\n",
            " -- OPUTPUT -- \n",
            "tensor([1., 1., 1., 1., 1., 1., 1., 1., 1., 1., 1., 1., 1., 1., 1., 1., 1., 1.,\n",
            "        1., 1., 1., 1., 1., 1., 1., 1., 1., 1., 1., 1., 1., 1.],\n",
            "       grad_fn=<ReshapeAliasBackward0>)\n",
            " -- OPUTPUT -- \n",
            "tensor([1., 1., 1., 1., 1., 1., 1., 1., 1., 1., 1., 1., 1., 1., 1., 1., 1., 1.,\n",
            "        1., 1., 1., 1., 1., 1., 1., 1., 1., 1., 1., 1., 1., 1.],\n",
            "       grad_fn=<ReshapeAliasBackward0>)\n",
            " -- OPUTPUT -- \n",
            "tensor([1., 1., 1., 1., 1., 1., 1., 1., 1., 1., 1., 1., 1., 1., 1., 1., 1., 1.,\n",
            "        1., nan, 1., 1., 1., 1., 1., 1., 1., 1., 1., 1., 1., 1.],\n",
            "       grad_fn=<ReshapeAliasBackward0>)\n"
          ]
        },
        {
          "ename": "RuntimeError",
          "evalue": "all elements of input should be between 0 and 1",
          "output_type": "error",
          "traceback": [
            "\u001b[1;31m---------------------------------------------------------------------------\u001b[0m",
            "\u001b[1;31mRuntimeError\u001b[0m                              Traceback (most recent call last)",
            "Cell \u001b[1;32mIn[108], line 17\u001b[0m\n\u001b[0;32m     13\u001b[0m \u001b[39mprint\u001b[39m(\u001b[39m\"\u001b[39m\u001b[39m -- OPUTPUT -- \u001b[39m\u001b[39m\\n\u001b[39;00m\u001b[39m{}\u001b[39;00m\u001b[39m\"\u001b[39m\u001b[39m.\u001b[39mformat(output))\n\u001b[0;32m     14\u001b[0m \u001b[39m# print(\" -- TARGET -- \\n{}\".format(target))\u001b[39;00m\n\u001b[0;32m     15\u001b[0m \n\u001b[0;32m     16\u001b[0m \u001b[39m# Calculate loss\u001b[39;00m\n\u001b[1;32m---> 17\u001b[0m loss \u001b[39m=\u001b[39m loss_fn(output, target)\n\u001b[0;32m     19\u001b[0m \u001b[39m# Backward pass\u001b[39;00m\n\u001b[0;32m     20\u001b[0m loss\u001b[39m.\u001b[39mbackward()\n",
            "File \u001b[1;32mc:\\Users\\maxwe\\AppData\\Local\\Programs\\Python\\Python310\\lib\\site-packages\\torch\\nn\\modules\\module.py:1194\u001b[0m, in \u001b[0;36mModule._call_impl\u001b[1;34m(self, *input, **kwargs)\u001b[0m\n\u001b[0;32m   1190\u001b[0m \u001b[39m# If we don't have any hooks, we want to skip the rest of the logic in\u001b[39;00m\n\u001b[0;32m   1191\u001b[0m \u001b[39m# this function, and just call forward.\u001b[39;00m\n\u001b[0;32m   1192\u001b[0m \u001b[39mif\u001b[39;00m \u001b[39mnot\u001b[39;00m (\u001b[39mself\u001b[39m\u001b[39m.\u001b[39m_backward_hooks \u001b[39mor\u001b[39;00m \u001b[39mself\u001b[39m\u001b[39m.\u001b[39m_forward_hooks \u001b[39mor\u001b[39;00m \u001b[39mself\u001b[39m\u001b[39m.\u001b[39m_forward_pre_hooks \u001b[39mor\u001b[39;00m _global_backward_hooks\n\u001b[0;32m   1193\u001b[0m         \u001b[39mor\u001b[39;00m _global_forward_hooks \u001b[39mor\u001b[39;00m _global_forward_pre_hooks):\n\u001b[1;32m-> 1194\u001b[0m     \u001b[39mreturn\u001b[39;00m forward_call(\u001b[39m*\u001b[39m\u001b[39minput\u001b[39m, \u001b[39m*\u001b[39m\u001b[39m*\u001b[39mkwargs)\n\u001b[0;32m   1195\u001b[0m \u001b[39m# Do not call functions when jit is used\u001b[39;00m\n\u001b[0;32m   1196\u001b[0m full_backward_hooks, non_full_backward_hooks \u001b[39m=\u001b[39m [], []\n",
            "File \u001b[1;32mc:\\Users\\maxwe\\AppData\\Local\\Programs\\Python\\Python310\\lib\\site-packages\\torch\\nn\\modules\\loss.py:619\u001b[0m, in \u001b[0;36mBCELoss.forward\u001b[1;34m(self, input, target)\u001b[0m\n\u001b[0;32m    618\u001b[0m \u001b[39mdef\u001b[39;00m \u001b[39mforward\u001b[39m(\u001b[39mself\u001b[39m, \u001b[39minput\u001b[39m: Tensor, target: Tensor) \u001b[39m-\u001b[39m\u001b[39m>\u001b[39m Tensor:\n\u001b[1;32m--> 619\u001b[0m     \u001b[39mreturn\u001b[39;00m F\u001b[39m.\u001b[39;49mbinary_cross_entropy(\u001b[39minput\u001b[39;49m, target, weight\u001b[39m=\u001b[39;49m\u001b[39mself\u001b[39;49m\u001b[39m.\u001b[39;49mweight, reduction\u001b[39m=\u001b[39;49m\u001b[39mself\u001b[39;49m\u001b[39m.\u001b[39;49mreduction)\n",
            "File \u001b[1;32mc:\\Users\\maxwe\\AppData\\Local\\Programs\\Python\\Python310\\lib\\site-packages\\torch\\nn\\functional.py:3095\u001b[0m, in \u001b[0;36mbinary_cross_entropy\u001b[1;34m(input, target, weight, size_average, reduce, reduction)\u001b[0m\n\u001b[0;32m   3092\u001b[0m     new_size \u001b[39m=\u001b[39m _infer_size(target\u001b[39m.\u001b[39msize(), weight\u001b[39m.\u001b[39msize())\n\u001b[0;32m   3093\u001b[0m     weight \u001b[39m=\u001b[39m weight\u001b[39m.\u001b[39mexpand(new_size)\n\u001b[1;32m-> 3095\u001b[0m \u001b[39mreturn\u001b[39;00m torch\u001b[39m.\u001b[39;49m_C\u001b[39m.\u001b[39;49m_nn\u001b[39m.\u001b[39;49mbinary_cross_entropy(\u001b[39minput\u001b[39;49m, target, weight, reduction_enum)\n",
            "\u001b[1;31mRuntimeError\u001b[0m: all elements of input should be between 0 and 1"
          ]
        }
      ],
      "source": [
        "model.train()\n",
        "\n",
        "for epoch in range(20):\n",
        "    for batch_idx, (data, target) in enumerate(train_loader):\n",
        "        # print(\"data \\n{}\".format(data))\n",
        "        # Erase accumulated gradients\n",
        "        optimizer.zero_grad()\n",
        "\n",
        "        # Forward pass\n",
        "        output = model(data)\n",
        "        # print(\" -- OPUTPUT -- \\n{}\".format(output))\n",
        "        output = output.flatten()\n",
        "        print(\" -- OPUTPUT -- \\n{}\".format(output))\n",
        "        # print(\" -- TARGET -- \\n{}\".format(target))\n",
        "\n",
        "        # Calculate loss\n",
        "        loss = loss_fn(output, target)\n",
        "\n",
        "        # Backward pass\n",
        "        loss.backward()\n",
        "        \n",
        "        # Weight update\n",
        "        optimizer.step()\n",
        "\n",
        "    # Track loss each epoch\n",
        "    print('Train Epoch: %d  Loss: %.4f' % (epoch + 1,  loss.item()))"
      ]
    },
    {
      "cell_type": "markdown",
      "metadata": {
        "id": "G4p-4iZDnQvN"
      },
      "source": [
        "## Testing\n",
        "We can perform forward passes through the network without saving gradients."
      ]
    },
    {
      "cell_type": "code",
      "execution_count": null,
      "metadata": {
        "colab": {
          "base_uri": "https://localhost:8080/"
        },
        "id": "jGzLHGFfnQvN",
        "outputId": "70c957a0-e909-4b4b-c0e0-02d70f65b51b"
      },
      "outputs": [
        {
          "name": "stdout",
          "output_type": "stream",
          "text": [
            "Test set: Average loss: nan, Accuracy: 5733/11300 (50.7345)\n"
          ]
        }
      ],
      "source": [
        "# Putting layers like Dropout into evaluation mode\n",
        "model.eval()\n",
        "\n",
        "test_loss = 0\n",
        "correct = 0\n",
        "\n",
        "# Turning off automatic differentiation\n",
        "with torch.no_grad():\n",
        "    for data, target in test_loader:\n",
        "        output = model(data)\n",
        "        test_loss += loss_fn(output, target).item()  # Sum up batch loss\n",
        "        pred = output.argmax(dim=1, keepdim=True)  # Get the index of the max class score\n",
        "        correct += pred.eq(target.view_as(pred)).sum().item()\n",
        "\n",
        "test_loss /= len(test_loader.dataset)\n",
        "\n",
        "print('Test set: Average loss: %.4f, Accuracy: %d/%d (%.4f)' %\n",
        "      (test_loss, correct, len(test_loader.dataset),\n",
        "       100. * correct / len(test_loader.dataset)))"
      ]
    }
  ],
  "metadata": {
    "accelerator": "GPU",
    "colab": {
      "provenance": []
    },
    "gpuClass": "standard",
    "kernelspec": {
      "display_name": "Python 3",
      "language": "python",
      "name": "python3"
    },
    "language_info": {
      "codemirror_mode": {
        "name": "ipython",
        "version": 3
      },
      "file_extension": ".py",
      "mimetype": "text/x-python",
      "name": "python",
      "nbconvert_exporter": "python",
      "pygments_lexer": "ipython3",
      "version": "3.9.5"
    },
    "vscode": {
      "interpreter": {
        "hash": "81794d4967e6c3204c66dcd87b604927b115b27c00565d3d43f05ba2f3a2cb0d"
      }
    }
  },
  "nbformat": 4,
  "nbformat_minor": 0
}
